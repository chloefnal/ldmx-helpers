{
 "cells": [
  {
   "cell_type": "code",
   "execution_count": 1,
   "id": "4f6111b6",
   "metadata": {},
   "outputs": [],
   "source": [
    "from coffea import hist\n",
    "import math\n",
    "\n",
    "%matplotlib inline\n",
    "import matplotlib.pyplot as plt\n",
    "import matplotlib.colors as colors\n",
    "import mplhep as hep\n",
    "plt.style.use(hep.style.CMS)\n",
    "\n",
    "import awkward as ak\n",
    "\n",
    "from matplotlib import colors\n",
    "POPTS={'norm':colors.LogNorm()}"
   ]
  },
  {
   "cell_type": "code",
   "execution_count": 2,
   "id": "b3433715",
   "metadata": {},
   "outputs": [],
   "source": [
    "from data import getData, repackage\n",
    "ldmx_dict = getData(chunks=True, fnames=\"/Users/chloeg/Desktop/Work/Fermilab2021/HistData/kaon_pn_4GeV_May7_ntuple_old/*.root\")"
   ]
  },
  {
   "cell_type": "code",
   "execution_count": 3,
   "id": "c5220638",
   "metadata": {},
   "outputs": [],
   "source": [
    "def extend_array(arr, new_attr, new_attr_name):\n",
    "    members={n:arr[n] for n in arr.fields}\n",
    "    members[new_attr_name] = new_attr\n",
    "    return ak.zip(members)\n",
    "\n",
    "def add_angle(arr,br=['px','py','pz','e'],name=\"theta\"):\n",
    "    from coffea.nanoevents.methods import vector\n",
    "    ak.behavior.update(vector.behavior)\n",
    "\n",
    "    part =  ak.zip({\"x\": arr.px,\n",
    "                    \"y\": arr.py,\n",
    "                    \"z\": arr.pz,\n",
    "                    \"t\": arr.e,\n",
    "                    },\n",
    "                    with_name=\"LorentzVector\")\n",
    "    arr = extend_array(arr, part.theta, name)\n",
    "    return arr\n",
    "\n",
    "def flat(x,axis=None):\n",
    "    try:\n",
    "        return ak.to_numpy(ak.flatten(x,axis=axis)) \n",
    "    except:\n",
    "        return x"
   ]
  },
  {
   "cell_type": "code",
   "execution_count": 4,
   "id": "bb44e145",
   "metadata": {},
   "outputs": [],
   "source": [
    "# let's define a couple of histograms\n",
    "# each .Bin defines a new axis of the histogram\n",
    "\n",
    "hists = {}\n",
    "hists[\"Target_epz1_hist\"] = hist.Hist(\"Target SP Kaons\",\n",
    "                                hist.Cat(\"Ptype\", \"Type of Particle\"),         \n",
    "                                hist.Bin(\"pz1\", r\"$p_z$ [MeV]\", 40, 0, 3000),\n",
    "                                hist.Bin(\"e1\", r\"Energy [MeV]\", 40, 0, 3000),\n",
    "                                hist.Bin(\"theta1\", r\"$\\theta [^{\\circ}]$\", 40, 0, 90),\n",
    "                            )\n",
    "\n",
    "hists[\"Target_epz2_hist\"] = hist.Hist(\"Target SP Kaons\", \n",
    "                                hist.Cat(\"Ptype\", \"Type of Particle\"), \n",
    "                                hist.Bin(\"pz2\", r\"$p_z$ [MeV]\", 40, 0, 3000),  \n",
    "                                hist.Bin(\"e2\", r\"Energy [MeV]\", 40, 0, 3000),\n",
    "                                hist.Bin(\"theta2\", r\"$\\theta [^{\\circ}]$\", 40, 0, 90)\n",
    "                            )\n"
   ]
  },
  {
   "cell_type": "code",
   "execution_count": 5,
   "id": "986ec7d7",
   "metadata": {},
   "outputs": [],
   "source": [
    "def ProcessChunk(chunk, hists):\n",
    "    ldmx_events = repackage(chunk)\n",
    "\n",
    "    target_kaon_dau1 = ldmx_events['Target_Kaon_dau1']\n",
    "    target_kaon_dau2 = ldmx_events['Target_Kaon_dau2']\n",
    "    target_kaon_dau1 = add_angle(target_kaon_dau1)\n",
    "    target_kaon_dau2 = add_angle(target_kaon_dau2)\n",
    "    \n",
    "    masks_id = {\n",
    "        #'Kshort': 310,\n",
    "                #'Photon': 22,\n",
    "                'Pionpm': 211,\n",
    "               # 'Klong': 130,\n",
    "              #  'Kpm': 321,\n",
    "               }\n",
    "     \n",
    "    masks_id_p = {'Pion0': 111,\n",
    "                'Photon': 22,\n",
    "                'Pionpm': 112,  \n",
    "               }\n",
    "    \n",
    "    for part,pmask in masks_id.items():\n",
    "        part_mask1p = (abs(target_kaon_dau1.pdgID)==pmask)\n",
    "        part_mask2p = (abs(target_kaon_dau2.pdgID)==pmask)\n",
    "        part_mask1k = (abs(target_kaon_dau1.mompdgID)== 310)\n",
    "        part_mask2k = (abs(target_kaon_dau2.mompdgID)== 310)\n",
    "        hists[\"Target_epz1_hist\"].fill(Ptype=part,      \n",
    "                                 e1=flat(target_kaon_dau1[part_mask1p & part_mask1k].e),\n",
    "                                 pz1=flat(target_kaon_dau1[part_mask1p & part_mask1k].pz),\n",
    "                                 theta1=flat(target_kaon_dau1[part_mask1p & part_mask1k].theta*(180/math.pi)),\n",
    "                                )\n",
    "        hists[\"Target_epz2_hist\"].fill(Ptype=part,      \n",
    "                                 e2=flat(target_kaon_dau2[part_mask2p & part_mask2k].e),\n",
    "                                 pz2=flat(target_kaon_dau2[part_mask2p & part_mask2k].pz),\n",
    "                                 theta2=flat(target_kaon_dau2[part_mask2p & part_mask2k].theta*(180/math.pi)),\n",
    "                                )"
   ]
  },
  {
   "cell_type": "code",
   "execution_count": 6,
   "id": "7d4cf138",
   "metadata": {
    "scrolled": false
   },
   "outputs": [
    {
     "name": "stdout",
     "output_type": "stream",
     "text": [
      "process 1\n",
      "process 2\n",
      "process 3\n",
      "process 4\n",
      "process 5\n",
      "process 6\n",
      "process 7\n",
      "process 8\n",
      "process 9\n",
      "process 10\n",
      "process 11\n",
      "process 12\n",
      "process 13\n",
      "process 14\n",
      "process 15\n",
      "process 16\n",
      "process 17\n",
      "process 18\n",
      "process 19\n",
      "process 20\n",
      "process 21\n",
      "process 22\n",
      "process 23\n",
      "process 24\n",
      "process 25\n"
     ]
    }
   ],
   "source": [
    "nchunk = 0\n",
    "for chunk in ldmx_dict:\n",
    "    # I usually test my code in one chunck only\n",
    "    #if nchunk >= 1: break\n",
    "    nchunk += 1\n",
    "    print('process',nchunk)\n",
    "    ProcessChunk(chunk, hists)"
   ]
  },
  {
   "cell_type": "code",
   "execution_count": 1,
   "id": "7a22756c",
   "metadata": {},
   "outputs": [
    {
     "ename": "NameError",
     "evalue": "name 'hists' is not defined",
     "output_type": "error",
     "traceback": [
      "\u001b[0;31m---------------------------------------------------------------------------\u001b[0m",
      "\u001b[0;31mNameError\u001b[0m                                 Traceback (most recent call last)",
      "\u001b[0;32m<ipython-input-1-e116e0681fd5>\u001b[0m in \u001b[0;36m<module>\u001b[0;34m\u001b[0m\n\u001b[0;32m----> 1\u001b[0;31m \u001b[0mprint\u001b[0m\u001b[0;34m(\u001b[0m\u001b[0mhists\u001b[0m\u001b[0;34m[\u001b[0m\u001b[0;34m\"Target_epz1_hist\"\u001b[0m\u001b[0;34m]\u001b[0m\u001b[0;34m)\u001b[0m\u001b[0;34m\u001b[0m\u001b[0;34m\u001b[0m\u001b[0m\n\u001b[0m\u001b[1;32m      2\u001b[0m \u001b[0mfig\u001b[0m\u001b[0;34m,\u001b[0m \u001b[0max\u001b[0m \u001b[0;34m=\u001b[0m \u001b[0mplt\u001b[0m\u001b[0;34m.\u001b[0m\u001b[0msubplots\u001b[0m\u001b[0;34m(\u001b[0m\u001b[0;36m1\u001b[0m\u001b[0;34m,\u001b[0m\u001b[0;36m3\u001b[0m\u001b[0;34m,\u001b[0m\u001b[0mfigsize\u001b[0m\u001b[0;34m=\u001b[0m\u001b[0;34m(\u001b[0m\u001b[0;36m24\u001b[0m\u001b[0;34m,\u001b[0m\u001b[0;36m6\u001b[0m\u001b[0;34m)\u001b[0m\u001b[0;34m,\u001b[0m \u001b[0mconstrained_layout\u001b[0m\u001b[0;34m=\u001b[0m\u001b[0;32mTrue\u001b[0m\u001b[0;34m)\u001b[0m\u001b[0;34m\u001b[0m\u001b[0;34m\u001b[0m\u001b[0m\n\u001b[1;32m      3\u001b[0m \u001b[0mhist\u001b[0m\u001b[0;34m.\u001b[0m\u001b[0mplot1d\u001b[0m\u001b[0;34m(\u001b[0m\u001b[0mhists\u001b[0m\u001b[0;34m[\u001b[0m\u001b[0;34m\"Target_epz1_hist\"\u001b[0m\u001b[0;34m]\u001b[0m\u001b[0;34m.\u001b[0m\u001b[0msum\u001b[0m\u001b[0;34m(\u001b[0m\u001b[0;34m'e1'\u001b[0m\u001b[0;34m,\u001b[0m \u001b[0;34m'theta1'\u001b[0m\u001b[0;34m)\u001b[0m\u001b[0;34m,\u001b[0m\u001b[0max\u001b[0m\u001b[0;34m=\u001b[0m\u001b[0max\u001b[0m\u001b[0;34m[\u001b[0m\u001b[0;36m0\u001b[0m\u001b[0;34m]\u001b[0m\u001b[0;34m,\u001b[0m\u001b[0mclear\u001b[0m\u001b[0;34m=\u001b[0m\u001b[0;32mFalse\u001b[0m\u001b[0;34m)\u001b[0m\u001b[0;34m;\u001b[0m\u001b[0;34m\u001b[0m\u001b[0;34m\u001b[0m\u001b[0m\n\u001b[1;32m      4\u001b[0m \u001b[0mhist\u001b[0m\u001b[0;34m.\u001b[0m\u001b[0mplot1d\u001b[0m\u001b[0;34m(\u001b[0m\u001b[0mhists\u001b[0m\u001b[0;34m[\u001b[0m\u001b[0;34m\"Target_epz2_hist\"\u001b[0m\u001b[0;34m]\u001b[0m\u001b[0;34m.\u001b[0m\u001b[0msum\u001b[0m\u001b[0;34m(\u001b[0m\u001b[0;34m'e2'\u001b[0m\u001b[0;34m,\u001b[0m \u001b[0;34m'theta2'\u001b[0m\u001b[0;34m)\u001b[0m\u001b[0;34m,\u001b[0m\u001b[0max\u001b[0m\u001b[0;34m=\u001b[0m\u001b[0max\u001b[0m\u001b[0;34m[\u001b[0m\u001b[0;36m0\u001b[0m\u001b[0;34m]\u001b[0m\u001b[0;34m,\u001b[0m\u001b[0mclear\u001b[0m\u001b[0;34m=\u001b[0m\u001b[0;32mFalse\u001b[0m\u001b[0;34m)\u001b[0m\u001b[0;34m;\u001b[0m\u001b[0;34m\u001b[0m\u001b[0;34m\u001b[0m\u001b[0m\n\u001b[1;32m      5\u001b[0m \u001b[0mleg\u001b[0m \u001b[0;34m=\u001b[0m \u001b[0max\u001b[0m\u001b[0;34m[\u001b[0m\u001b[0;36m0\u001b[0m\u001b[0;34m]\u001b[0m\u001b[0;34m.\u001b[0m\u001b[0mlegend\u001b[0m\u001b[0;34m(\u001b[0m\u001b[0;34m[\u001b[0m\u001b[0;34mr'dau1'\u001b[0m\u001b[0;34m,\u001b[0m\u001b[0;34mr'dau2'\u001b[0m\u001b[0;34m]\u001b[0m\u001b[0;34m)\u001b[0m\u001b[0;34m\u001b[0m\u001b[0;34m\u001b[0m\u001b[0m\n",
      "\u001b[0;31mNameError\u001b[0m: name 'hists' is not defined"
     ]
    }
   ],
   "source": [
    "print(hists[\"Target_epz1_hist\"])\n",
    "fig, ax = plt.subplots(1,3,figsize=(24,6), constrained_layout=True)\n",
    "hist.plot1d(hists[\"Target_epz1_hist\"].sum('e1', 'theta1'),ax=ax[0],clear=False);\n",
    "hist.plot1d(hists[\"Target_epz2_hist\"].sum('e2', 'theta2'),ax=ax[0],clear=False);\n",
    "\n",
    "hist.plot1d(hists[\"Target_epz1_hist\"].sum('pz1', 'theta1'),ax=ax[1],clear=False);\n",
    "hist.plot1d(hists[\"Target_epz2_hist\"].sum('pz2', 'theta2'),ax=ax[1],clear=False);\n",
    "\n",
    "hist.plot1d(hists[\"Target_epz1_hist\"].sum('pz1', 'e1'),ax=ax[2],clear=False);\n",
    "hist.plot1d(hists[\"Target_epz2_hist\"].sum('pz2', 'e2'),ax=ax[2],clear=False);\n",
    "\n",
    "\n",
    "\n",
    "#fig, ax = plt.subplots(1,3, figsize=(24,6), constrained_layout=True)\n",
    "#hist.plot2d(hists[\"Target_kaon_ke\"].integrate('Ktype', ['Kpm']), xaxis='k', ax=ax[0],patch_opts=POPTS);\n",
    "#ax[0].set_title(\"$K^{\\pm}$\")\n",
    "\n",
    "#hist.plot2d(hists[\"Target_kaon_ke\"].integrate('Ktype', ['Klong']), xaxis='k', ax=ax[1],patch_opts=POPTS);\n",
    "#ax[1].set_title(\"$K_l$\")\n",
    "\n",
    "#hist.plot2d(hists[\"Target_kaon_ke\"].integrate('Ktype', ['Kshort']), xaxis='k', ax=ax,patch_opts=POPTS);\n",
    "#ax.set_title(\"$K_s$\")"
   ]
  },
  {
   "cell_type": "code",
   "execution_count": null,
   "id": "5c9d7f2e",
   "metadata": {},
   "outputs": [],
   "source": []
  },
  {
   "cell_type": "code",
   "execution_count": null,
   "id": "49c8d154",
   "metadata": {},
   "outputs": [],
   "source": []
  }
 ],
 "metadata": {
  "kernelspec": {
   "display_name": "Python 3",
   "language": "python",
   "name": "python3"
  },
  "language_info": {
   "codemirror_mode": {
    "name": "ipython",
    "version": 3
   },
   "file_extension": ".py",
   "mimetype": "text/x-python",
   "name": "python",
   "nbconvert_exporter": "python",
   "pygments_lexer": "ipython3",
   "version": "3.9.1"
  }
 },
 "nbformat": 4,
 "nbformat_minor": 5
}
