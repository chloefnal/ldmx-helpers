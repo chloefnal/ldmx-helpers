{
 "cells": [
  {
   "cell_type": "code",
   "execution_count": 1,
   "id": "9736c047",
   "metadata": {},
   "outputs": [],
   "source": [
    "from coffea import hist\n",
    "import math\n",
    "\n",
    "%matplotlib inline\n",
    "import matplotlib.pyplot as plt\n",
    "import matplotlib.colors as colors\n",
    "import mplhep as hep\n",
    "plt.style.use(hep.style.CMS)\n",
    "\n",
    "import awkward as ak\n",
    "\n",
    "from matplotlib import colors\n",
    "POPTS={'norm':colors.LogNorm()}"
   ]
  },
  {
   "cell_type": "code",
   "execution_count": 2,
   "id": "b6791a13",
   "metadata": {},
   "outputs": [],
   "source": [
    "from data import getData, repackage\n",
    "ldmx_dict = getData(chunks=True, fnames=\"/Users/chloeg/Desktop/Work/Fermilab2021/HistData/kaon_pn_4GeV_Jun24_ntuple/*.root\")"
   ]
  },
  {
   "cell_type": "code",
   "execution_count": 3,
   "id": "df81b299",
   "metadata": {},
   "outputs": [],
   "source": [
    "def flat(x,axis=None): # for now must cast while waiting for coffea to catch up\n",
    "        try:\n",
    "            return ak.to_numpy(ak.flatten(x,axis=axis)) \n",
    "        except:\n",
    "            return x"
   ]
  },
  {
   "cell_type": "code",
   "execution_count": 4,
   "id": "24e7586b",
   "metadata": {},
   "outputs": [],
   "source": [
    "hists = {}\n",
    "hists[\"lambda_hist\"] = hist.Hist(\"Sim Lambda\",\n",
    "                                hist.Bin(\"e\", r\"Kinetic Energy [MeV]\", 80, 0, 1000)\n",
    "                            )\n",
    "hists[\"lambda_kplus_hist\"] = hist.Hist(\"Sim Lambda\",\n",
    "                                hist.Bin(\"e\", r\"Kinetic Energy [MeV]\", 80, 0, 1000)\n",
    "                            )\n",
    "\n",
    "hists[\"lambda_kshort_hist\"] = hist.Hist(\"Sim Lambda\",\n",
    "                                hist.Bin(\"e\", r\"Kinetic Energy [MeV]\", 80, 0, 1000)\n",
    "                            )\n",
    "hists[\"lambda_klong_hist\"] = hist.Hist(\"Sim Lambda\",\n",
    "                                hist.Bin(\"e\", r\"Kinetic Energy [MeV]\", 80, 0, 1000)\n",
    "                            )\n",
    "\n",
    "#hists[\"lambda_electon_hist\"] = hist.Hist(\"Sim Lambda\",      \n",
    "#                                hist.Bin(\"l\", r\"$\\Lambda$ Kinetic Energy [MeV]\", 40, 0, 3000),\n",
    "#                                hist.Bin(\"e\", r\"Electron Energy [MeV]\", 40, 0, 1500),\n",
    "#                            )\n",
    "#hists[\"lambda_electon_hist_n1\"] = hist.Hist(\"Sim Lambda\",      \n",
    "#                                hist.Bin(\"l\", r\"$\\Lambda$ Kinetic Energy [MeV]\", 40, 0, 3000),\n",
    "#                                hist.Bin(\"e\", r\"Electron Energy [MeV]\", 40, 0, 1500),\n",
    "#                            )\n"
   ]
  },
  {
   "cell_type": "code",
   "execution_count": 5,
   "id": "bcd25fab",
   "metadata": {},
   "outputs": [],
   "source": [
    "def ProcessChunk(chunk, hists):\n",
    "    ldmx_events = repackage(chunk)\n",
    "\n",
    "    sim_kaon = ldmx_events['Sim_Kaon']\n",
    "    sim_kaon_n = ldmx_events['n']['Sim_Kaon']\n",
    "    sim_lambda = ldmx_events['Sim_Lambda']\n",
    "    sim_lambda_dau1 = ldmx_events['Sim_Lambda_dau1']\n",
    "    sim_lambda_dau2 = ldmx_events['Sim_Lambda_dau2']\n",
    "    \n",
    "    lambda0_mass = 1115.683\n",
    "    kaon_mass = 497.648\n",
    "    #all lambda are 0 because they are the only light enough\n",
    "    \n",
    "    kaone_mask = sim_kaon.e >= 1440\n",
    "    \n",
    "    n1_mask = (abs(flat(sim_kaon_n)) == 1)\n",
    "    kplus_mask = ((flat(sim_kaon[n1_mask].pdgID)) == 321)\n",
    "    kshort_mask = ((flat(sim_kaon[n1_mask].pdgID)) == 310)\n",
    "    klong_mask = ((flat(sim_kaon[n1_mask].pdgID)) == 130)\n",
    "    \n",
    "    lambda_mask = ((flat(sim_lambda[n1_mask][kplus_mask].pdgID)) == 3122)\n",
    "    \n",
    "    lambda_energy_plus = (flat(sim_lambda[n1_mask][kplus_mask].e))\n",
    "    kaon_energy_plus = (flat(sim_kaon[n1_mask][kplus_mask][lambda_mask].e))\n",
    "    electron_energy_plus = (flat(sim_kaon[n1_mask][kplus_mask][lambda_mask].electrone))\n",
    "    \n",
    "    system_energy_plus = lambda_energy_plus + kaon_energy_plus + electron_energy_plus\n",
    "    \n",
    "    system_energy_mask_plus = (flat(system_energy_plus) <= 4000)\n",
    "    print(system_energy_plus.shape)\n",
    "    print(flat(system_energy_plus[system_energy_mask_plus]).shape)\n",
    "    \n",
    "    plus_acceptance = flat(system_energy_plus[system_energy_mask_plus].shape/system_energy_plus.shape\n",
    "    \n",
    "    hists[\"lambda_hist\"].fill(\n",
    "                         e=flat(sim_lambda.e)-lambda0_mass,\n",
    "                         )   \n",
    "    hists[\"lambda_kplus_hist\"].fill(\n",
    "                         e=flat(sim_lambda[n1_mask][kplus_mask].e)-lambda0_mass,\n",
    "                         ) \n",
    "    hists[\"lambda_kshort_hist\"].fill(\n",
    "                         e=flat(sim_lambda[n1_mask][kshort_mask].e)-lambda0_mass,\n",
    "                         ) \n",
    "    hists[\"lambda_klong_hist\"].fill(\n",
    "                         e=flat(sim_lambda[n1_mask][klong_mask].e)-lambda0_mass,\n",
    "                         ) \n",
    "    \n",
    "    \n"
   ]
  },
  {
   "cell_type": "code",
   "execution_count": 6,
   "id": "43e7c770",
   "metadata": {
    "scrolled": true
   },
   "outputs": [
    {
     "name": "stdout",
     "output_type": "stream",
     "text": [
      "process 1\n",
      "(56,)\n",
      "(54,)\n"
     ]
    },
    {
     "ename": "TypeError",
     "evalue": "unsupported operand type(s) for /: 'tuple' and 'tuple'",
     "output_type": "error",
     "traceback": [
      "\u001b[0;31m---------------------------------------------------------------------------\u001b[0m",
      "\u001b[0;31mTypeError\u001b[0m                                 Traceback (most recent call last)",
      "\u001b[0;32m<ipython-input-6-6c1d73238267>\u001b[0m in \u001b[0;36m<module>\u001b[0;34m\u001b[0m\n\u001b[1;32m      3\u001b[0m     \u001b[0mnchunk\u001b[0m \u001b[0;34m+=\u001b[0m \u001b[0;36m1\u001b[0m\u001b[0;34m\u001b[0m\u001b[0;34m\u001b[0m\u001b[0m\n\u001b[1;32m      4\u001b[0m     \u001b[0mprint\u001b[0m\u001b[0;34m(\u001b[0m\u001b[0;34m'process'\u001b[0m\u001b[0;34m,\u001b[0m\u001b[0mnchunk\u001b[0m\u001b[0;34m)\u001b[0m\u001b[0;34m\u001b[0m\u001b[0;34m\u001b[0m\u001b[0m\n\u001b[0;32m----> 5\u001b[0;31m     \u001b[0mProcessChunk\u001b[0m\u001b[0;34m(\u001b[0m\u001b[0mchunk\u001b[0m\u001b[0;34m,\u001b[0m \u001b[0mhists\u001b[0m\u001b[0;34m)\u001b[0m\u001b[0;34m\u001b[0m\u001b[0;34m\u001b[0m\u001b[0m\n\u001b[0m",
      "\u001b[0;32m<ipython-input-5-5ddd0599de30>\u001b[0m in \u001b[0;36mProcessChunk\u001b[0;34m(chunk, hists)\u001b[0m\n\u001b[1;32m     31\u001b[0m     \u001b[0mprint\u001b[0m\u001b[0;34m(\u001b[0m\u001b[0mflat\u001b[0m\u001b[0;34m(\u001b[0m\u001b[0msystem_energy_plus\u001b[0m\u001b[0;34m[\u001b[0m\u001b[0msystem_energy_mask_plus\u001b[0m\u001b[0;34m]\u001b[0m\u001b[0;34m)\u001b[0m\u001b[0;34m.\u001b[0m\u001b[0mshape\u001b[0m\u001b[0;34m)\u001b[0m\u001b[0;34m\u001b[0m\u001b[0;34m\u001b[0m\u001b[0m\n\u001b[1;32m     32\u001b[0m \u001b[0;34m\u001b[0m\u001b[0m\n\u001b[0;32m---> 33\u001b[0;31m     \u001b[0mplus_acceptance\u001b[0m \u001b[0;34m=\u001b[0m \u001b[0mflat\u001b[0m\u001b[0;34m(\u001b[0m\u001b[0msystem_energy_plus\u001b[0m\u001b[0;34m[\u001b[0m\u001b[0msystem_energy_mask_plus\u001b[0m\u001b[0;34m]\u001b[0m\u001b[0;34m)\u001b[0m\u001b[0;34m.\u001b[0m\u001b[0mshape\u001b[0m\u001b[0;34m/\u001b[0m\u001b[0mflat\u001b[0m\u001b[0;34m(\u001b[0m\u001b[0msystem_energy_plus\u001b[0m\u001b[0;34m)\u001b[0m\u001b[0;34m.\u001b[0m\u001b[0mshape\u001b[0m\u001b[0;34m\u001b[0m\u001b[0;34m\u001b[0m\u001b[0m\n\u001b[0m\u001b[1;32m     34\u001b[0m \u001b[0;34m\u001b[0m\u001b[0m\n\u001b[1;32m     35\u001b[0m     hists[\"lambda_hist\"].fill(\n",
      "\u001b[0;31mTypeError\u001b[0m: unsupported operand type(s) for /: 'tuple' and 'tuple'"
     ]
    }
   ],
   "source": [
    "nchunk = 0\n",
    "for chunk in ldmx_dict:\n",
    "    nchunk += 1\n",
    "    print('process',nchunk)\n",
    "    ProcessChunk(chunk, hists)\n"
   ]
  },
  {
   "cell_type": "code",
   "execution_count": null,
   "id": "19cd53f6",
   "metadata": {
    "scrolled": false
   },
   "outputs": [],
   "source": [
    "print(hists[\"lambda_hist\"])\n",
    "fig, ax = plt.subplots()\n",
    "hist.plot1d(hists[\"lambda_hist\"],ax=ax,clear=False);\n",
    "leg = ax.legend([r'$\\Lambda$'])\n",
    "\n",
    "print(hists[\"lambda_hist\"])\n",
    "fig, ax = plt.subplots()\n",
    "hist.plot1d(hists[\"lambda_kplus_hist\"],ax=ax,clear=False);\n",
    "leg = ax.legend([r'$\\Lambda$ produced with 1 $K^+$'])\n",
    "\n",
    "print(hists[\"lambda_hist\"])\n",
    "fig, ax = plt.subplots()\n",
    "hist.plot1d(hists[\"lambda_kshort_hist\"],ax=ax,clear=False);\n",
    "leg = ax.legend([r'$\\Lambda$ produced with 1 $K_s$'])\n",
    "\n",
    "\n",
    "print(hists[\"lambda_hist\"])\n",
    "fig, ax = plt.subplots()\n",
    "hist.plot1d(hists[\"lambda_klong_hist\"],ax=ax,clear=False);\n",
    "leg = ax.legend([r'$\\Lambda$ produced with 1 $K_L$'])\n"
   ]
  },
  {
   "cell_type": "code",
   "execution_count": null,
   "id": "cc5dff36",
   "metadata": {},
   "outputs": [],
   "source": [
    "#print(hists[\"lambda_electon_hist\"])\n",
    "\n",
    "fig, ax = plt.subplots(1,3,figsize=(24,6), constrained_layout=True)\n",
    "hist.plot2d(hists[\"lambda_electon_hist\"], xaxis='l', ax=ax[0],patch_opts=POPTS);\n",
    "hist.plot2d(hists[\"lambda_electon_hist_n1\"], xaxis='l', ax=ax[1],patch_opts=POPTS);\n",
    "hist.plot2d(hists[\"lambda_electon_hist_n2\"], xaxis='l', ax=ax[2],patch_opts=POPTS);\n",
    "ax[0].text(2500, 50,r'All n')\n",
    "ax[1].text(2500, 50,r'n=1')\n",
    "ax[2].text(2500, 50,r'n=2')\n"
   ]
  },
  {
   "cell_type": "code",
   "execution_count": null,
   "id": "14908fd9",
   "metadata": {},
   "outputs": [],
   "source": []
  }
 ],
 "metadata": {
  "kernelspec": {
   "display_name": "Python 3",
   "language": "python",
   "name": "python3"
  },
  "language_info": {
   "codemirror_mode": {
    "name": "ipython",
    "version": 3
   },
   "file_extension": ".py",
   "mimetype": "text/x-python",
   "name": "python",
   "nbconvert_exporter": "python",
   "pygments_lexer": "ipython3",
   "version": "3.9.1"
  }
 },
 "nbformat": 4,
 "nbformat_minor": 5
}
