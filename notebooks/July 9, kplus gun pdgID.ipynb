{
 "cells": [
  {
   "cell_type": "code",
   "execution_count": 1,
   "id": "766e2a4f",
   "metadata": {},
   "outputs": [],
   "source": [
    "from coffea import hist\n",
    "import math\n",
    "\n",
    "%matplotlib inline\n",
    "import matplotlib.pyplot as plt\n",
    "import matplotlib.colors as colors\n",
    "import mplhep as hep\n",
    "import numpy as np\n",
    "plt.style.use(hep.style.CMS)\n",
    "\n",
    "import awkward as ak\n",
    "\n",
    "from matplotlib import colors\n",
    "POPTS={'norm':colors.LogNorm()}"
   ]
  },
  {
   "cell_type": "code",
   "execution_count": 2,
   "id": "6dd51abf",
   "metadata": {},
   "outputs": [
    {
     "ename": "SyntaxError",
     "evalue": "invalid syntax (data.py, line 20)",
     "output_type": "error",
     "traceback": [
      "Traceback \u001b[0;36m(most recent call last)\u001b[0m:\n",
      "  File \u001b[1;32m\"/usr/local/lib/python3.9/site-packages/IPython/core/interactiveshell.py\"\u001b[0m, line \u001b[1;32m3441\u001b[0m, in \u001b[1;35mrun_code\u001b[0m\n    exec(code_obj, self.user_global_ns, self.user_ns)\n",
      "\u001b[0;36m  File \u001b[0;32m\"<ipython-input-2-9f8cdac9eecb>\"\u001b[0;36m, line \u001b[0;32m1\u001b[0;36m, in \u001b[0;35m<module>\u001b[0;36m\u001b[0m\n\u001b[0;31m    from data import getData, repackage\u001b[0m\n",
      "\u001b[0;36m  File \u001b[0;32m\"/Users/chloeg/Desktop/Work/Fermilab2021/ldmx-helpers-main/notebooks/data.py\"\u001b[0;36m, line \u001b[0;32m20\u001b[0m\n\u001b[0;31m    \"Sim_Particle\": SimParticle_attrs,\u001b[0m\n\u001b[0m    ^\u001b[0m\n\u001b[0;31mSyntaxError\u001b[0m\u001b[0;31m:\u001b[0m invalid syntax\n"
     ]
    }
   ],
   "source": [
    "from data import getData, repackage\n",
    "ldmx_dict = getData(chunks=True, fnames=\"/Users/chloeg/Desktop/Work/Fermilab2021/HistData/kplus_gps_1to3p5_Jul8_ntuple/*.root\")"
   ]
  },
  {
   "cell_type": "code",
   "execution_count": null,
   "id": "33672d97",
   "metadata": {},
   "outputs": [],
   "source": [
    "def extend_array(arr, new_attr, new_attr_name):\n",
    "    members={n:arr[n] for n in arr.fields}\n",
    "    members[new_attr_name] = new_attr\n",
    "    return ak.zip(members)\n",
    "\n",
    "def add_angle(arr,br=['px','py','pz','e'],name=\"theta\"):\n",
    "    from coffea.nanoevents.methods import vector\n",
    "    ak.behavior.update(vector.behavior)\n",
    "\n",
    "    part =  ak.zip({\"x\": arr.px,\n",
    "                    \"y\": arr.py,\n",
    "                    \"z\": arr.pz,\n",
    "                    \"t\": arr.e,\n",
    "                    },\n",
    "                    with_name=\"LorentzVector\")\n",
    "    arr = extend_array(arr, part.theta, name)\n",
    "    return arr\n",
    "\n",
    "def get_vector(arr):\n",
    "    from coffea.nanoevents.methods import vector\n",
    "    ak.behavior.update(vector.behavior)\n",
    "\n",
    "    part =  ak.zip({\"x\": arr.px,\n",
    "                    \"y\": arr.py,\n",
    "                    \"z\": arr.pz,\n",
    "                    \"t\": arr.e,\n",
    "                    },\n",
    "                    with_name=\"LorentzVector\")\n",
    "    return part\n",
    "\n",
    "def flat(x,axis=None): # for now must cast while waiting for coffea to catch up\n",
    "    try:\n",
    "        return ak.to_numpy(ak.flatten(x,axis=axis)) \n",
    "    except:\n",
    "        return x"
   ]
  },
  {
   "cell_type": "code",
   "execution_count": null,
   "id": "992172ab",
   "metadata": {},
   "outputs": [],
   "source": [
    "hists = {}\n",
    "hists[\"hist_pdgID\"] = hist.Hist(\"Sim Particle\",\n",
    "                                hist.Bin(\"e\", r\"PDG ID\", 50, 300, 350)\n",
    "                            )\n",
    "hists[\"hist_n\"] = hist.Hist(\"Sim Particle\",\n",
    "                                hist.Bin(\"e\", r\"PDG ID\", 4, 0, 4)\n",
    "                            )\n",
    "\n",
    "hists[\"hist_ke\"] = hist.Hist(\"Sim Particle\",\n",
    "                                hist.Bin(\"e\", r\"Kinetic Energy [MeV]\", 100, 0, 4100)\n",
    "                            )\n",
    "hists[\"hist_e\"] = hist.Hist(\"Sim Particle\",\n",
    "                                hist.Bin(\"e\", r\"Energy [MeV]\", 100, 0, 4100)\n",
    "                            )\n",
    "hists[\"hist_test\"] = hist.Hist(\"Sim Particle\",\n",
    "                                hist.Bin(\"e\", r\"PDG ID\", 400, 0, 400)\n",
    "                            )\n",
    "hists[\"hist_dau_e\"] = hist.Hist(\"Sim Particle\",\n",
    "                                hist.Bin(\"e\", r\"PDG ID\", 400, 0, 400)\n",
    "                            )\n"
   ]
  },
  {
   "cell_type": "code",
   "execution_count": null,
   "id": "2b1bfb1b",
   "metadata": {},
   "outputs": [],
   "source": [
    "def ProcessChunk(chunk, hists):\n",
    "    ldmx_events = repackage(chunk)\n",
    "    \n",
    "    sim_particle = ldmx_events['Sim_Particle']\n",
    "    sim_particle_n = ldmx_events['n']['Sim_Particle']\n",
    "    sim_particle_dau1 = ldmx_events['Sim_Particle_dau1']\n",
    "    sim_particle_dau2 = ldmx_events['Sim_Particle_dau2']\n",
    "    \n",
    "    #kplus_pdgid  = 321\n",
    "    #kminus_pdgid = -321\n",
    "    kplus_mass = 493.677\n",
    "    \n",
    "    n_mask = ((sim_particle_n)==1)\n",
    "    \n",
    "    decay1_mask = (flat(sim_particle_dau1.momdecay)==1)\n",
    "    decay2_mask = (flat(sim_particle_dau2.momdecay)==1)\n",
    "    \n",
    "    print(flat(sim_particle.decay))\n",
    "    \n",
    "    hists[\"hist_pdgID\"].fill(\n",
    "                         e=flat(sim_particle.pdgID),\n",
    "                         ) \n",
    "    hists[\"hist_n\"].fill(\n",
    "                         e=sim_particle_n,\n",
    "                         )        \n",
    "    hists[\"hist_ke\"].fill(\n",
    "                         e=flat(sim_particle.e)-kplus_mass,\n",
    "                         ) \n",
    "    hists[\"hist_e\"].fill(\n",
    "                         e=flat(sim_particle.e),\n",
    "                         ) \n",
    "    hists[\"hist_test\"].fill(\n",
    "                         e=flat(abs(sim_particle_dau2.pdgID)),\n",
    "                         )\n",
    "\n",
    "    \n",
    "    #decay 1, dau1 = electron neutrino\n",
    "    #decay 1, dau2 = electron neutrino and tau- ???? what\n",
    "    #     decay 2 ???? what\n",
    "    #decay 3, dau1 = electron neutrino\n",
    "    #decay 3, dau2 = electron neutrino and tau- and pi0???\n",
    "    #     decay 4 ???? what\n",
    "    #decay 7, dau1 = pi and e-\n",
    "    #decay 7, dau2 = pi0\n",
    "    #decay 8, dau1 = "
   ]
  },
  {
   "cell_type": "code",
   "execution_count": null,
   "id": "c852df31",
   "metadata": {},
   "outputs": [],
   "source": [
    "nchunk = 0\n",
    "for chunk in ldmx_dict:\n",
    "    nchunk += 1\n",
    "    print('process',nchunk)\n",
    "    ProcessChunk(chunk, hists)"
   ]
  },
  {
   "cell_type": "code",
   "execution_count": null,
   "id": "1744f2dd",
   "metadata": {
    "scrolled": false
   },
   "outputs": [],
   "source": [
    "print(hists[\"hist_pdgID\"])\n",
    "fig, ax = plt.subplots()\n",
    "hist.plot1d(hists[\"hist_pdgID\"],ax=ax,clear=False);\n",
    "leg = ax.legend([r'Gen $K^+$ Particle'])\n",
    "\n",
    "fig, ax = plt.subplots()\n",
    "hist.plot1d(hists[\"hist_e\"],ax=ax,clear=False);\n",
    "leg = ax.legend([r'Gen $K^+$ Particle'])\n",
    "\n",
    "\n",
    "fig, ax = plt.subplots()\n",
    "hist.plot1d(hists[\"hist_ke\"],ax=ax,clear=False);\n",
    "leg = ax.legend([r'Gen $K^+$ Particle'])\n",
    "\n",
    "\n",
    "\n",
    "\n",
    "\n",
    "fig, ax = plt.subplots()\n",
    "hist.plot1d(hists[\"hist_test\"],ax=ax,clear=False);"
   ]
  },
  {
   "cell_type": "code",
   "execution_count": null,
   "id": "9f839f82",
   "metadata": {},
   "outputs": [],
   "source": []
  }
 ],
 "metadata": {
  "kernelspec": {
   "display_name": "Python 3",
   "language": "python",
   "name": "python3"
  },
  "language_info": {
   "codemirror_mode": {
    "name": "ipython",
    "version": 3
   },
   "file_extension": ".py",
   "mimetype": "text/x-python",
   "name": "python",
   "nbconvert_exporter": "python",
   "pygments_lexer": "ipython3",
   "version": "3.9.1"
  }
 },
 "nbformat": 4,
 "nbformat_minor": 5
}
