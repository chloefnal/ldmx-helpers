{
 "cells": [
  {
   "cell_type": "code",
   "execution_count": 1,
   "id": "4f6111b6",
   "metadata": {},
   "outputs": [],
   "source": [
    "from coffea import hist\n",
    "import math\n",
    "\n",
    "%matplotlib inline\n",
    "import matplotlib.pyplot as plt\n",
    "import matplotlib.colors as colors\n",
    "import mplhep as hep\n",
    "import numpy as np\n",
    "plt.style.use(hep.style.CMS)\n",
    "\n",
    "import awkward as ak\n",
    "\n",
    "from matplotlib import colors\n",
    "POPTS={'norm':colors.LogNorm()}"
   ]
  },
  {
   "cell_type": "code",
   "execution_count": 2,
   "id": "b3433715",
   "metadata": {},
   "outputs": [],
   "source": [
    "from data import getData, repackage\n",
    "ldmx_dict = getData(chunks=True, fnames=\"/Users/chloeg/Desktop/Work/Fermilab2021/HistData/kshort_pn_4GeV_May10_ntuple/*.root\")"
   ]
  },
  {
   "cell_type": "code",
   "execution_count": 3,
   "id": "c5220638",
   "metadata": {},
   "outputs": [],
   "source": [
    "def extend_array(arr, new_attr, new_attr_name):\n",
    "    members={n:arr[n] for n in arr.fields}\n",
    "    members[new_attr_name] = new_attr\n",
    "    return ak.zip(members)\n",
    "\n",
    "def add_angle(arr,br=['px','py','pz','e'],name=\"theta\"):\n",
    "    from coffea.nanoevents.methods import vector\n",
    "    ak.behavior.update(vector.behavior)\n",
    "    part =  ak.zip({\"x\": arr.px,\n",
    "                    \"y\": arr.py,\n",
    "                    \"z\": arr.pz,\n",
    "                    \"t\": arr.e,\n",
    "                    },\n",
    "                    with_name=\"LorentzVector\")\n",
    "    arr = extend_array(arr, part.theta, name)\n",
    "    return arr\n",
    "\n",
    "def get_vector(arr,br=['px','py','pz','e'],name=\"LV\"):\n",
    "    from coffea.nanoevents.methods import vector\n",
    "    ak.behavior.update(vector.behavior)\n",
    "    part =  ak.zip({\"x\": arr.px,\n",
    "                    \"y\": arr.py,\n",
    "                    \"z\": arr.pz,\n",
    "                    \"t\": arr.e,\n",
    "                    },\n",
    "                    with_name=\"LorentzVector\")\n",
    "    return part\n",
    "\n",
    "def mass(self):\n",
    "     #   r\"\"\"Invariant mass (+, -, -, -)\n",
    "      #  :math:`\\sqrt{t^2-x^2-y^2-z^2}`\n",
    "      #  \"\"\"\n",
    "        return numpy.sqrt(self.mass2)\n",
    "    \n",
    "def absolute(self):\n",
    "      #  \"\"\"Magnitude of this Lorentz vector\n",
    "     #   Alias for `mass`\n",
    "       # \"\"\"\n",
    "        return self.mass\n",
    "    \n",
    "def flat(x,axis=None):\n",
    "    try:\n",
    "        return ak.to_numpy(ak.flatten(x,axis=axis)) \n",
    "    except:\n",
    "        return x"
   ]
  },
  {
   "cell_type": "code",
   "execution_count": 4,
   "id": "69ca04dc",
   "metadata": {},
   "outputs": [],
   "source": [
    "hists = {}\n",
    "hists[\"Target_mass_hist\"] = hist.Hist(\"Target SP Kaons\",\n",
    "                                hist.Cat(\"Ptype\", \"Type of Particle\"),         \n",
    "                                hist.Bin(\"m\", r\"Mass\", 80, 139.568, 139.572),\n",
    "                            )        "
   ]
  },
  {
   "cell_type": "code",
   "execution_count": 5,
   "id": "5c9d7f2e",
   "metadata": {},
   "outputs": [],
   "source": [
    "def ProcessChunk(chunk, hists):\n",
    "    ldmx_events = repackage(chunk)\n",
    "\n",
    "    target_kaon_dau1 = ldmx_events['Target_Kaon_dau1']\n",
    "    target_kaon_dau2 = ldmx_events['Target_Kaon_dau2']\n",
    "    \n",
    "    masks_id = {'Pionpm': 211,\n",
    "               }\n",
    "\n",
    "    for part,pmask in masks_id.items():\n",
    "        part_mask1p = (abs(target_kaon_dau1.pdgID)==pmask)\n",
    "        part_mask2p = (abs(target_kaon_dau2.pdgID)==pmask)\n",
    "        part_mask1k = (abs(target_kaon_dau1.mompdgID)== 310)\n",
    "        part_mask2k = (abs(target_kaon_dau2.mompdgID)== 310)\n",
    "        \n",
    "        target_kaon_dau1a = get_vector(target_kaon_dau1[part_mask1p & part_mask1k])\n",
    "        target_kaon_dau2a = get_vector(target_kaon_dau2[part_mask2p & part_mask2k])\n",
    "    \n",
    "        mass_data1 = flat(target_kaon_dau1a.mass)\n",
    "        mass_data2 = flat(target_kaon_dau2a.mass)\n",
    "        mass_data = np.append(mass_data1, mass_data2)\n",
    "        print(mass_data)\n",
    "    \n",
    "        hists[\"Target_mass_hist\"].fill(Ptype=part,      \n",
    "                                 m=mass_data,      \n",
    "                                )"
   ]
  },
  {
   "cell_type": "code",
   "execution_count": 6,
   "id": "49c8d154",
   "metadata": {
    "scrolled": true
   },
   "outputs": [
    {
     "name": "stdout",
     "output_type": "stream",
     "text": [
      "process 1\n",
      "[]\n"
     ]
    }
   ],
   "source": [
    "nchunk = 0\n",
    "for chunk in ldmx_dict:\n",
    "    #I usually test my code in one chunck only\n",
    "    if nchunk >= 1: break\n",
    "    nchunk += 1\n",
    "    print('process',nchunk)\n",
    "    ProcessChunk(chunk, hists)"
   ]
  },
  {
   "cell_type": "code",
   "execution_count": 7,
   "id": "2a8e314d",
   "metadata": {},
   "outputs": [
    {
     "name": "stdout",
     "output_type": "stream",
     "text": [
      "<Hist (Ptype,m) instance at 0x133995a60>\n"
     ]
    },
    {
     "name": "stderr",
     "output_type": "stream",
     "text": [
      "/usr/local/lib/python3.9/site-packages/coffea/hist/plot.py:43: RuntimeWarning: All sumw are zero!  Cannot compute meaningful error bars\n",
      "  warnings.warn(\n"
     ]
    },
    {
     "data": {
      "image/png": "[encoded data removed]",
      "text/plain": [
       "<Figure size 720x720 with 1 Axes>"
      ]
     },
     "metadata": {
      "needs_background": "light"
     },
     "output_type": "display_data"
    }
   ],
   "source": [
    "print(hists[\"Target_mass_hist\"])\n",
    "fig, ax = plt.subplots()\n",
    "hist.plot1d(hists[\"Target_mass_hist\"],ax=ax,clear=False);\n",
    "leg = ax.legend([r'$\\pi ^+/-$ from $K_s$'])\n",
    "\n"
   ]
  },
  {
   "cell_type": "code",
   "execution_count": null,
   "id": "e1befefb",
   "metadata": {},
   "outputs": [],
   "source": []
  },
  {
   "cell_type": "code",
   "execution_count": null,
   "id": "811cf17e",
   "metadata": {},
   "outputs": [],
   "source": []
  },
  {
   "cell_type": "code",
   "execution_count": null,
   "id": "10391cf2",
   "metadata": {},
   "outputs": [],
   "source": []
  }
 ],
 "metadata": {
  "kernelspec": {
   "display_name": "Python 3",
   "language": "python",
   "name": "python3"
  },
  "language_info": {
   "codemirror_mode": {
    "name": "ipython",
    "version": 3
   },
   "file_extension": ".py",
   "mimetype": "text/x-python",
   "name": "python",
   "nbconvert_exporter": "python",
   "pygments_lexer": "ipython3",
   "version": "3.9.1"
  }
 },
 "nbformat": 4,
 "nbformat_minor": 5
}
