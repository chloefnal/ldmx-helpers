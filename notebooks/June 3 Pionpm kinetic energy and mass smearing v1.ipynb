{
 "cells": [
  {
   "cell_type": "code",
   "execution_count": 1,
   "id": "e0253557",
   "metadata": {},
   "outputs": [],
   "source": [
    "from coffea import hist\n",
    "import math\n",
    "\n",
    "%matplotlib inline\n",
    "import matplotlib.pyplot as plt\n",
    "import matplotlib.colors as colors\n",
    "import mplhep as hep\n",
    "import numpy as np\n",
    "import random\n",
    "plt.style.use(hep.style.CMS)\n",
    "\n",
    "import awkward as ak\n",
    "\n",
    "from matplotlib import colors\n",
    "POPTS={'norm':colors.LogNorm()}"
   ]
  },
  {
   "cell_type": "code",
   "execution_count": 2,
   "id": "23d40dd4",
   "metadata": {},
   "outputs": [],
   "source": [
    "from data import getData, repackage\n",
    "ldmx_dict = getData(chunks=True, fnames=\"/Users/chloeg/Desktop/Work/Fermilab2021/HistData/kshort_pn_4GeV_Jun2_ntuple/*.root\")"
   ]
  },
  {
   "cell_type": "code",
   "execution_count": 3,
   "id": "562a2933",
   "metadata": {},
   "outputs": [],
   "source": [
    "def extend_array(arr, new_attr, new_attr_name):\n",
    "    members={n:arr[n] for n in arr.fields}\n",
    "    members[new_attr_name] = new_attr\n",
    "    return ak.zip(members)\n",
    "\n",
    "def add_angle(arr,br=['px','py','pz','e'],name=\"theta\"):\n",
    "    from coffea.nanoevents.methods import vector\n",
    "    ak.behavior.update(vector.behavior)\n",
    "\n",
    "    part =  ak.zip({\"x\": arr.px,\n",
    "                    \"y\": arr.py,\n",
    "                    \"z\": arr.pz,\n",
    "                    \"t\": arr.e,\n",
    "                    },\n",
    "                    with_name=\"LorentzVector\")\n",
    "    arr = extend_array(arr, part.theta, name)\n",
    "    return arr\n",
    "\n",
    "def get_vector(arr):\n",
    "    from coffea.nanoevents.methods import vector\n",
    "    ak.behavior.update(vector.behavior)\n",
    "\n",
    "    part =  ak.zip({\"x\": arr.px,\n",
    "                    \"y\": arr.py,\n",
    "                    \"z\": arr.pz,\n",
    "                    \"t\": arr.e,\n",
    "                    },\n",
    "                    with_name=\"LorentzVector\")\n",
    "    return part\n",
    "\n",
    "def flat(x,axis=None): # for now must cast while waiting for coffea to catch up\n",
    "    try:\n",
    "        return ak.to_numpy(ak.flatten(x,axis=axis)) \n",
    "    except:\n",
    "        return x\n"
   ]
  },
  {
   "cell_type": "code",
   "execution_count": 4,
   "id": "482e8f62",
   "metadata": {},
   "outputs": [],
   "source": [
    "def track_smear(kinetic_energy, theta):\n",
    "    # assume flat uncertainty on the energy (I think that is 6%)\n",
    "    c_eres = random.gauss(1.,0.06); # flat 10% uncertainty for now\n",
    "    # assume some uncertainty on the angle (I think that is 2%)\n",
    "    c_hres = random.gauss(0.,0.02); # 1 degrees\n",
    "    return (c_eres*kinetic_energy, abs(c_hres+theta))"
   ]
  },
  {
   "cell_type": "code",
   "execution_count": 5,
   "id": "18320354",
   "metadata": {},
   "outputs": [],
   "source": [
    "hists = {}\n",
    "hists[\"Target_pion_ke\"] = hist.Hist(\"Target SP Kaons\",    \n",
    "                                hist.Bin(\"keOG\", r\"Kinetic Energy [MeV]\", 80, 0, 2000),\n",
    "                                hist.Bin(\"keSm\", r\"Kinetic Energy [MeV]\", 80, 0, 2000),\n",
    "                            )       "
   ]
  },
  {
   "cell_type": "code",
   "execution_count": 6,
   "id": "8631faac",
   "metadata": {},
   "outputs": [],
   "source": [
    "def ProcessChunk(chunk, hists):\n",
    "    ldmx_events = repackage(chunk)\n",
    "\n",
    "    target_kaon_dau1 = ldmx_events['TSP_Kaon_dau1']\n",
    "    target_kaon_dau2 = ldmx_events['TSP_Kaon_dau2']\n",
    "    \n",
    "    kshort_pdgid = 310\n",
    "    chargedpion_pdgid = 211\n",
    "    pion_mass = 139\n",
    "    \n",
    "    mask_2dau = (target_kaon_dau1.gd==0)\n",
    "    kshort_mask = (abs(target_kaon_dau1.mompdgID)==kshort_pdgid)\n",
    "    pidau1_mask = (abs(target_kaon_dau1.pdgID)==chargedpion_pdgid)\n",
    "\n",
    " \n",
    "    pi1 = get_vector(target_kaon_dau1[pidau1_mask & kshort_mask & mask_2dau])\n",
    "\n",
    "    #print(flat(pi1.theta).size)\n",
    "    #print((flat(pi1.t) - pion_mass).size)\n",
    "    \n",
    "    new_energy1 = track_smear(pi1.t - pion_mass, pi1.theta)[0] + pion_mass\n",
    "    new_theta1 = track_smear(pi1.t - pion_mass, pi1.theta)[1]\n",
    "    \n",
    "   # print(new_energy1)\n",
    "    #print(pi1.t)\n",
    "    \n",
    "    from coffea.nanoevents.methods import vector\n",
    "    ak.behavior.update(vector.behavior)\n",
    "\n",
    "    pi1_track_smeared =  ak.zip({\"x\": np.cos(new_theta1)*pi1.p,\n",
    "                    \"y\": np.sin(new_theta1)*pi1.p,\n",
    "                    \"z\": pi1.pz,\n",
    "                    \"t\": new_energy1,\n",
    "                    },\n",
    "                    with_name=\"LorentzVector\")\n",
    "    \n",
    "    #print(flat(pi1.theta))\n",
    "    #print(flat(new_theta1)) these two pump out reasonable things\n",
    "    \n",
    "    #print(flat(np.cos(pi1.theta)))\n",
    "    #print(flat(np.cos(new_theta1))) #these two pump out reasonable things\n",
    "    \n",
    "   # print(flat(pi1.px))\n",
    "\n",
    "   # print(flat(np.cos(new_theta1))*flat(pi1.p))\n",
    "    \n",
    "               #+flat(pi1.y)^2+flat(pi1.z)^2)\n",
    "    \n",
    "   # print(flat(np.cos(pi1.theta)*pi1.p))\n",
    "    #print(flat(np.cos(pi1.theta)* momentum))\n",
    "    \n",
    "#show that px is p * theta \n",
    "#use vector that we know pi1, print pi1.px and pi1.theta, take the cos of that and multipy pi1.p\n",
    "#see if track smeared can work without subtracting pion mass\n",
    "    \n",
    "    \n",
    "    \n",
    " #   print(flat(pi1.mass), flat(new_energy1), flat(pi1.t))\n",
    "    \n",
    "   # hists[\"Target_pion_ke\"].fill(\n",
    "                   #              keOG=flat(new_energy1)-pion_mass,\n",
    "                        #         keSm=c_eres*kinetic_energy,\n",
    "                       #         )\n",
    "   # print()\n",
    "\n",
    "    \n",
    "    \n",
    "    return"
   ]
  },
  {
   "cell_type": "code",
   "execution_count": 7,
   "id": "c6815603",
   "metadata": {
    "scrolled": true
   },
   "outputs": [
    {
     "name": "stdout",
     "output_type": "stream",
     "text": [
      "process 1\n"
     ]
    },
    {
     "ename": "ValueError",
     "evalue": "not enough values to unpack (expected 3, got 0)",
     "output_type": "error",
     "traceback": [
      "\u001b[0;31m---------------------------------------------------------------------------\u001b[0m",
      "\u001b[0;31mValueError\u001b[0m                                Traceback (most recent call last)",
      "\u001b[0;32m<ipython-input-7-8ca998bbf45d>\u001b[0m in \u001b[0;36m<module>\u001b[0;34m\u001b[0m\n\u001b[1;32m      4\u001b[0m     \u001b[0mnchunk\u001b[0m \u001b[0;34m+=\u001b[0m \u001b[0;36m1\u001b[0m\u001b[0;34m\u001b[0m\u001b[0;34m\u001b[0m\u001b[0m\n\u001b[1;32m      5\u001b[0m     \u001b[0mprint\u001b[0m\u001b[0;34m(\u001b[0m\u001b[0;34m'process'\u001b[0m\u001b[0;34m,\u001b[0m\u001b[0mnchunk\u001b[0m\u001b[0;34m)\u001b[0m\u001b[0;34m\u001b[0m\u001b[0;34m\u001b[0m\u001b[0m\n\u001b[0;32m----> 6\u001b[0;31m     \u001b[0mProcessChunk\u001b[0m\u001b[0;34m(\u001b[0m\u001b[0mchunk\u001b[0m\u001b[0;34m,\u001b[0m \u001b[0mhists\u001b[0m\u001b[0;34m)\u001b[0m\u001b[0;34m\u001b[0m\u001b[0;34m\u001b[0m\u001b[0m\n\u001b[0m",
      "\u001b[0;32m<ipython-input-6-a74dc67fcb7b>\u001b[0m in \u001b[0;36mProcessChunk\u001b[0;34m(chunk, hists)\u001b[0m\n\u001b[1;32m     45\u001b[0m    \u001b[0;31m# print(flat(np.cos(new_theta1))*flat(pi1.p))\u001b[0m\u001b[0;34m\u001b[0m\u001b[0;34m\u001b[0m\u001b[0;34m\u001b[0m\u001b[0m\n\u001b[1;32m     46\u001b[0m \u001b[0;34m\u001b[0m\u001b[0m\n\u001b[0;32m---> 47\u001b[0;31m     \u001b[0mmomentum\u001b[0m \u001b[0;34m=\u001b[0m \u001b[0mmath\u001b[0m\u001b[0;34m.\u001b[0m\u001b[0msqrt\u001b[0m\u001b[0;34m(\u001b[0m\u001b[0msum\u001b[0m\u001b[0;34m(\u001b[0m\u001b[0;34m(\u001b[0m\u001b[0mx\u001b[0m \u001b[0;34m+\u001b[0m \u001b[0my\u001b[0m \u001b[0;34m+\u001b[0m \u001b[0mz\u001b[0m\u001b[0;34m)\u001b[0m \u001b[0;34m**\u001b[0m \u001b[0;36m2.0\u001b[0m \u001b[0;32mfor\u001b[0m \u001b[0mx\u001b[0m\u001b[0;34m,\u001b[0m \u001b[0my\u001b[0m\u001b[0;34m,\u001b[0m \u001b[0mz\u001b[0m \u001b[0;32min\u001b[0m \u001b[0mpi1\u001b[0m\u001b[0;34m)\u001b[0m\u001b[0;34m)\u001b[0m\u001b[0;34m\u001b[0m\u001b[0;34m\u001b[0m\u001b[0m\n\u001b[0m\u001b[1;32m     48\u001b[0m                \u001b[0;31m#+flat(pi1.y)^2+flat(pi1.z)^2)\u001b[0m\u001b[0;34m\u001b[0m\u001b[0;34m\u001b[0m\u001b[0;34m\u001b[0m\u001b[0m\n\u001b[1;32m     49\u001b[0m \u001b[0;34m\u001b[0m\u001b[0m\n",
      "\u001b[0;32m<ipython-input-6-a74dc67fcb7b>\u001b[0m in \u001b[0;36m<genexpr>\u001b[0;34m(.0)\u001b[0m\n\u001b[1;32m     45\u001b[0m    \u001b[0;31m# print(flat(np.cos(new_theta1))*flat(pi1.p))\u001b[0m\u001b[0;34m\u001b[0m\u001b[0;34m\u001b[0m\u001b[0;34m\u001b[0m\u001b[0m\n\u001b[1;32m     46\u001b[0m \u001b[0;34m\u001b[0m\u001b[0m\n\u001b[0;32m---> 47\u001b[0;31m     \u001b[0mmomentum\u001b[0m \u001b[0;34m=\u001b[0m \u001b[0mmath\u001b[0m\u001b[0;34m.\u001b[0m\u001b[0msqrt\u001b[0m\u001b[0;34m(\u001b[0m\u001b[0msum\u001b[0m\u001b[0;34m(\u001b[0m\u001b[0;34m(\u001b[0m\u001b[0mx\u001b[0m \u001b[0;34m+\u001b[0m \u001b[0my\u001b[0m \u001b[0;34m+\u001b[0m \u001b[0mz\u001b[0m\u001b[0;34m)\u001b[0m \u001b[0;34m**\u001b[0m \u001b[0;36m2.0\u001b[0m \u001b[0;32mfor\u001b[0m \u001b[0mx\u001b[0m\u001b[0;34m,\u001b[0m \u001b[0my\u001b[0m\u001b[0;34m,\u001b[0m \u001b[0mz\u001b[0m \u001b[0;32min\u001b[0m \u001b[0mpi1\u001b[0m\u001b[0;34m)\u001b[0m\u001b[0;34m)\u001b[0m\u001b[0;34m\u001b[0m\u001b[0;34m\u001b[0m\u001b[0m\n\u001b[0m\u001b[1;32m     48\u001b[0m                \u001b[0;31m#+flat(pi1.y)^2+flat(pi1.z)^2)\u001b[0m\u001b[0;34m\u001b[0m\u001b[0;34m\u001b[0m\u001b[0;34m\u001b[0m\u001b[0m\n\u001b[1;32m     49\u001b[0m \u001b[0;34m\u001b[0m\u001b[0m\n",
      "\u001b[0;31mValueError\u001b[0m: not enough values to unpack (expected 3, got 0)"
     ]
    }
   ],
   "source": [
    "nchunk = 0\n",
    "for chunk in ldmx_dict:\n",
    "    #if nchunk >= 1: break\n",
    "    nchunk += 1\n",
    "    print('process',nchunk)\n",
    "    ProcessChunk(chunk, hists)"
   ]
  },
  {
   "cell_type": "code",
   "execution_count": null,
   "id": "658ef9ad",
   "metadata": {},
   "outputs": [],
   "source": [
    "print(hists[\"Target_pion_ke\"])\n",
    "fig, ax = plt.subplots()\n",
    "#fig, ax = plt.subplots(1,2,figsize=(24,6), constrained_layout=True)\n",
    "hist.plot1d(hists[\"Target_pion_ke\"],ax=ax,clear=False);\n",
    "leg = ax.legend([r'Dau1'])\n",
    "\n",
    "#hist.plot1d(hists[\"Target_pion_ke_new\"].sum('ke1'),ax=ax[1],clear=False);\n",
    "#hist.plot1d(hists[\"Target_pion_ke_new\"].sum('ke2'),ax=ax[1],clear=False);\n",
    "#leg = ax[1].legend([r'Dau1 with Mass Smear', r'Dau2 with Mass Smear'])"
   ]
  },
  {
   "cell_type": "code",
   "execution_count": null,
   "id": "4ecc803a",
   "metadata": {},
   "outputs": [],
   "source": []
  }
 ],
 "metadata": {
  "kernelspec": {
   "display_name": "Python 3",
   "language": "python",
   "name": "python3"
  },
  "language_info": {
   "codemirror_mode": {
    "name": "ipython",
    "version": 3
   },
   "file_extension": ".py",
   "mimetype": "text/x-python",
   "name": "python",
   "nbconvert_exporter": "python",
   "pygments_lexer": "ipython3",
   "version": "3.9.1"
  }
 },
 "nbformat": 4,
 "nbformat_minor": 5
}
