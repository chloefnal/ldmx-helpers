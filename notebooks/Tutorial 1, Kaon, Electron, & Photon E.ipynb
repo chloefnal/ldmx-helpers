{
 "cells": [
  {
   "cell_type": "markdown",
   "id": "convenient-donna",
   "metadata": {},
   "source": [
    "## Exploring simulated data files from LDMX"
   ]
  },
  {
   "cell_type": "code",
   "execution_count": 1,
   "id": "fabulous-parker",
   "metadata": {},
   "outputs": [],
   "source": [
    "from coffea import hist\n",
    "import math\n",
    "\n",
    "%matplotlib inline\n",
    "import matplotlib.pyplot as plt\n",
    "import matplotlib.colors as colors\n",
    "import mplhep as hep\n",
    "plt.style.use(hep.style.CMS)\n",
    "\n",
    "import awkward as ak\n",
    "\n",
    "from matplotlib import colors\n",
    "POPTS={'norm':colors.LogNorm()}"
   ]
  },
  {
   "cell_type": "code",
   "execution_count": 2,
   "id": "interesting-basketball",
   "metadata": {},
   "outputs": [],
   "source": [
    "from data import getData, repackage\n",
    "ldmx_dict = getData(chunks=True, fnames=\"/Users/chloeg/Desktop/Work/Fermilab2021/HistData/kshort_pn_4GeV_May10_ntuple/*.root\")"
   ]
  },
  {
   "cell_type": "code",
   "execution_count": 3,
   "id": "arabic-consideration",
   "metadata": {},
   "outputs": [],
   "source": [
    "# let's define a couple of histograms\n",
    "# each .Bin defines a new axis of the histogram\n",
    "\n",
    "hists = {}\n",
    "hists[\"Target_kaon_hist\"] = hist.Hist(\"Target SP Kaons\",\n",
    "                                hist.Bin(\"k\", r\"Energy [MeV]\", 40, 0, 4000)\n",
    "                            )\n",
    "\n",
    "hists[\"Target_ep_hist\"] = hist.Hist(\"Target SP Kaons\", \n",
    "                                hist.Bin(\"e\", r\"Electron Energy [MeV]\", 40, 0, 4000),\n",
    "                                hist.Bin(\"p\", r\"Photon Energy [MeV]\", 40, 0, 4000),\n",
    "                            )\n",
    "\n"
   ]
  },
  {
   "cell_type": "code",
   "execution_count": 4,
   "id": "graphic-river",
   "metadata": {},
   "outputs": [],
   "source": [
    "\n",
    "def ProcessChunk(chunk, hists):\n",
    "    ldmx_events = repackage(chunk)\n",
    "\n",
    "    target_kaon = ldmx_events['Target_Kaon']\n",
    "    target_electron = ldmx_events['Target_Electron']\n",
    "    target_photon = ldmx_events['Target_Photon']\n",
    "    \n",
    "    \n",
    "    #target_kaon = add_angle(target_kaon)\n",
    "    \n",
    "    #target_kaon_dau1 = ldmx_events['Target_Kaon_dau1']\n",
    "    #target_kaon_dau1 = add_angle(target_kaon_dau1)\n",
    "    \n",
    "    masks_id = {'Kshort': 310,\n",
    "                'Klong': 130,\n",
    "                'Kpm': 321,\n",
    "               }\n",
    "    masses = {'Kshort': 497.648,\n",
    "              'Klong': 497.648,\n",
    "              'Kpm': 493.677\n",
    "             }\n",
    "    \n",
    "    def flat(x,axis=None): # for now must cast while waiting for coffea to catch up\n",
    "        try:\n",
    "            return ak.to_numpy(ak.flatten(x,axis=axis)) \n",
    "        except:\n",
    "            return x\n",
    "    \n",
    "    hists[\"Target_kaon_hist\"].fill(\n",
    "                                 k=flat(target_kaon.e)\n",
    "                                )\n",
    "    \n",
    "    hists[\"Target_ep_hist\"].fill(\n",
    "                                 e=flat(target_electron.e),\n",
    "                                 p=flat(target_photon.e),\n",
    "                                )"
   ]
  },
  {
   "cell_type": "code",
   "execution_count": 5,
   "id": "pursuant-priest",
   "metadata": {},
   "outputs": [
    {
     "name": "stdout",
     "output_type": "stream",
     "text": [
      "process 1\n",
      "process 2\n",
      "process 3\n",
      "process 4\n",
      "process 5\n",
      "process 6\n",
      "process 7\n",
      "process 8\n",
      "process 9\n",
      "process 10\n"
     ]
    }
   ],
   "source": [
    "nchunk = 0\n",
    "for chunk in ldmx_dict:\n",
    "    # I usually test my code in one chunck only\n",
    "    #if nchunk >= 1: break\n",
    "    nchunk += 1\n",
    "    print('process',nchunk)\n",
    "    ProcessChunk(chunk, hists)"
   ]
  },
  {
   "cell_type": "code",
   "execution_count": 6,
   "id": "seasonal-worth",
   "metadata": {
    "scrolled": false
   },
   "outputs": [
    {
     "name": "stdout",
     "output_type": "stream",
     "text": [
      "<Hist (e,p) instance at 0x134328af0>\n"
     ]
    },
    {
     "data": {
      "image/png": "[encoded data removed]",
      "text/plain": [
       "<Figure size 720x720 with 1 Axes>"
      ]
     },
     "metadata": {
      "needs_background": "light"
     },
     "output_type": "display_data"
    }
   ],
   "source": [
    "print(hists[\"Target_ep_hist\"])\n",
    "fig, ax = plt.subplots()\n",
    "hist.plot1d(hists[\"Target_ep_hist\"].sum('e'),ax=ax,clear=False);\n",
    "hist.plot1d(hists[\"Target_ep_hist\"].sum('p'),ax=ax,clear=False);\n",
    "hist.plot1d(hists[\"Target_kaon_hist\"],ax=ax,clear=False);\n",
    "leg = ax.legend([r'$e^-$',r'$\\gamma$',r'$K$'])"
   ]
  },
  {
   "cell_type": "code",
   "execution_count": null,
   "id": "tender-letter",
   "metadata": {},
   "outputs": [],
   "source": []
  }
 ],
 "metadata": {
  "kernelspec": {
   "display_name": "Python 3",
   "language": "python",
   "name": "python3"
  },
  "language_info": {
   "codemirror_mode": {
    "name": "ipython",
    "version": 3
   },
   "file_extension": ".py",
   "mimetype": "text/x-python",
   "name": "python",
   "nbconvert_exporter": "python",
   "pygments_lexer": "ipython3",
   "version": "3.9.1"
  }
 },
 "nbformat": 4,
 "nbformat_minor": 5
}
