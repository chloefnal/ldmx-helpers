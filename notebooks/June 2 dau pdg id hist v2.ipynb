{
 "cells": [
  {
   "cell_type": "code",
   "execution_count": 1,
   "id": "e0253557",
   "metadata": {},
   "outputs": [],
   "source": [
    "from coffea import hist\n",
    "import math\n",
    "\n",
    "%matplotlib inline\n",
    "import matplotlib.pyplot as plt\n",
    "import matplotlib.colors as colors\n",
    "import mplhep as hep\n",
    "import numpy as np\n",
    "plt.style.use(hep.style.CMS)\n",
    "\n",
    "import awkward as ak\n",
    "\n",
    "from matplotlib import colors\n",
    "POPTS={'norm':colors.LogNorm()}"
   ]
  },
  {
   "cell_type": "code",
   "execution_count": 2,
   "id": "23d40dd4",
   "metadata": {},
   "outputs": [],
   "source": [
    "from data import getData, repackage\n",
    "ldmx_dict = getData(chunks=True, fnames=\"/Users/chloeg/Desktop/Work/Fermilab2021/HistData/kshort_pn_4GeV_Jun2_ntuple/*.root\")"
   ]
  },
  {
   "cell_type": "code",
   "execution_count": 3,
   "id": "562a2933",
   "metadata": {},
   "outputs": [],
   "source": [
    "def extend_array(arr, new_attr, new_attr_name):\n",
    "    members={n:arr[n] for n in arr.fields}\n",
    "    members[new_attr_name] = new_attr\n",
    "    return ak.zip(members)\n",
    "\n",
    "def add_angle(arr,br=['px','py','pz','e'],name=\"theta\"):\n",
    "    from coffea.nanoevents.methods import vector\n",
    "    ak.behavior.update(vector.behavior)\n",
    "\n",
    "    part =  ak.zip({\"x\": arr.px,\n",
    "                    \"y\": arr.py,\n",
    "                    \"z\": arr.pz,\n",
    "                    \"t\": arr.e,\n",
    "                    },\n",
    "                    with_name=\"LorentzVector\")\n",
    "    arr = extend_array(arr, part.theta, name)\n",
    "    return arr\n",
    "\n",
    "def get_vector(arr):\n",
    "    from coffea.nanoevents.methods import vector\n",
    "    ak.behavior.update(vector.behavior)\n",
    "\n",
    "    part =  ak.zip({\"x\": arr.px,\n",
    "                    \"y\": arr.py,\n",
    "                    \"z\": arr.pz,\n",
    "                    \"t\": arr.e,\n",
    "                    },\n",
    "                    with_name=\"LorentzVector\")\n",
    "    return part\n",
    "\n",
    "def flat(x,axis=None): # for now must cast while waiting for coffea to catch up\n",
    "    try:\n",
    "        return ak.to_numpy(ak.flatten(x,axis=axis)) \n",
    "    except:\n",
    "        return x"
   ]
  },
  {
   "cell_type": "code",
   "execution_count": 4,
   "id": "18320354",
   "metadata": {},
   "outputs": [],
   "source": [
    "hists = {}\n",
    "hists[\"gdpdgid_hist\"] = hist.Hist(\"Target SP Kaons\",\n",
    "                                hist.Bin(\"pdgid\", r\"Pdgid\", 100, 0, 300),\n",
    "                            )   "
   ]
  },
  {
   "cell_type": "code",
   "execution_count": 5,
   "id": "8631faac",
   "metadata": {},
   "outputs": [],
   "source": [
    "def ProcessChunk(chunk, hists):\n",
    "    ldmx_events = repackage(chunk)\n",
    "\n",
    "    target_kaon_dau1 = ldmx_events['TSP_Kaon_dau1']\n",
    "    target_kaon_dau2 = ldmx_events['TSP_Kaon_dau2']\n",
    "    target_kaon_dau3 = ldmx_events['TSP_Kaon_dau3']\n",
    "    target_kaon_dau4 = ldmx_events['TSP_Kaon_dau4']\n",
    "    \n",
    "    kshort_pdgid = 310\n",
    "    chargedpion_pdgid = 211\n",
    "    \n",
    "    # first select only events w 2 daughters\n",
    "    mask_2dau = (target_kaon_dau1.gd==0)\n",
    "    mask_4dau = (target_kaon_dau1.gd==1)\n",
    "    \n",
    "    kshort_mask = (abs(target_kaon_dau1.mompdgID)==kshort_pdgid)\n",
    "        \n",
    "    pidau1_mask = (abs(target_kaon_dau1.pdgID)==chargedpion_pdgid)\n",
    "    pidau2_mask = (abs(target_kaon_dau2.pdgID)==chargedpion_pdgid)\n",
    "\n",
    "    pidau1 = abs(target_kaon_dau1[mask_2dau].pdgID)\n",
    "    pidau2 = abs(target_kaon_dau2[mask_2dau].pdgID)\n",
    "    pidau3 = abs(target_kaon_dau3[mask_2dau].pdgID)\n",
    "    pidau4 = abs(target_kaon_dau4[mask_2dau].pdgID)\n",
    "    \n",
    "    pisum = (pidau1+pidau2+pidau3+pidau4)\n",
    "      \n",
    "    hists[\"gdpdgid_hist\"].fill(      \n",
    "                                 pdgid= flat(pidau1),\n",
    "                                )\n",
    "    return"
   ]
  },
  {
   "cell_type": "code",
   "execution_count": 6,
   "id": "c6815603",
   "metadata": {
    "scrolled": false
   },
   "outputs": [
    {
     "name": "stdout",
     "output_type": "stream",
     "text": [
      "process 1\n",
      "process 2\n",
      "process 3\n",
      "process 4\n",
      "process 5\n",
      "process 6\n",
      "process 7\n",
      "process 8\n",
      "process 9\n",
      "process 10\n",
      "process 11\n",
      "process 12\n",
      "process 13\n",
      "process 14\n",
      "process 15\n",
      "process 16\n",
      "process 17\n",
      "process 18\n",
      "process 19\n",
      "process 20\n",
      "process 21\n",
      "process 22\n",
      "process 23\n",
      "process 24\n",
      "process 25\n",
      "process 26\n",
      "process 27\n",
      "process 28\n",
      "process 29\n",
      "process 30\n",
      "process 31\n",
      "process 32\n",
      "process 33\n"
     ]
    }
   ],
   "source": [
    "nchunk = 0\n",
    "for chunk in ldmx_dict:\n",
    "    #if nchunk >= 1: break\n",
    "    nchunk += 1\n",
    "    print('process',nchunk)\n",
    "    ProcessChunk(chunk, hists)"
   ]
  },
  {
   "cell_type": "code",
   "execution_count": 8,
   "id": "658ef9ad",
   "metadata": {},
   "outputs": [
    {
     "name": "stdout",
     "output_type": "stream",
     "text": [
      "<Hist (pdgid) instance at 0x12f8bf070>\n"
     ]
    },
    {
     "data": {
      "image/png": "[encoded data removed]",
      "text/plain": [
       "<Figure size 720x720 with 1 Axes>"
      ]
     },
     "metadata": {
      "needs_background": "light"
     },
     "output_type": "display_data"
    }
   ],
   "source": [
    "print(hists[\"gdpdgid_hist\"])\n",
    "fig, ax = plt.subplots()\n",
    "hist.plot1d(hists[\"gdpdgid_hist\"],ax=ax,clear=False);\n",
    "leg = ax.legend([r'Daughters'])"
   ]
  },
  {
   "cell_type": "code",
   "execution_count": null,
   "id": "4ecc803a",
   "metadata": {},
   "outputs": [],
   "source": []
  }
 ],
 "metadata": {
  "kernelspec": {
   "display_name": "Python 3",
   "language": "python",
   "name": "python3"
  },
  "language_info": {
   "codemirror_mode": {
    "name": "ipython",
    "version": 3
   },
   "file_extension": ".py",
   "mimetype": "text/x-python",
   "name": "python",
   "nbconvert_exporter": "python",
   "pygments_lexer": "ipython3",
   "version": "3.9.1"
  }
 },
 "nbformat": 4,
 "nbformat_minor": 5
}
