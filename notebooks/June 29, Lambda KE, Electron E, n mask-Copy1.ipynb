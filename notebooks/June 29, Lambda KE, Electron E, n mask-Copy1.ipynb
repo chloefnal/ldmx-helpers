{
 "cells": [
  {
   "cell_type": "code",
   "execution_count": 1,
   "id": "9736c047",
   "metadata": {},
   "outputs": [],
   "source": [
    "from coffea import hist\n",
    "import math\n",
    "\n",
    "%matplotlib inline\n",
    "import matplotlib.pyplot as plt\n",
    "import matplotlib.colors as colors\n",
    "import mplhep as hep\n",
    "plt.style.use(hep.style.CMS)\n",
    "\n",
    "import awkward as ak\n",
    "\n",
    "from matplotlib import colors\n",
    "POPTS={'norm':colors.LogNorm()}"
   ]
  },
  {
   "cell_type": "code",
   "execution_count": 2,
   "id": "b6791a13",
   "metadata": {},
   "outputs": [],
   "source": [
    "from data import getData, repackage\n",
    "ldmx_dict = getData(chunks=True, fnames=\"/Users/chloeg/Desktop/Work/Fermilab2021/HistData/kaon_pn_4GeV_Jun24_ntuple/*.root\")"
   ]
  },
  {
   "cell_type": "code",
   "execution_count": 3,
   "id": "df81b299",
   "metadata": {},
   "outputs": [],
   "source": [
    "def flat(x,axis=None): # for now must cast while waiting for coffea to catch up\n",
    "        try:\n",
    "            return ak.to_numpy(ak.flatten(x,axis=axis)) \n",
    "        except:\n",
    "            return x"
   ]
  },
  {
   "cell_type": "code",
   "execution_count": 4,
   "id": "24e7586b",
   "metadata": {},
   "outputs": [],
   "source": [
    "hists = {}\n",
    "\n",
    "hists[\"kaon_pdgid_hist\"] = hist.Hist(\"Sim Lambda\",      \n",
    "                                hist.Bin(\"pdgid\", r\"$\\Lambda$ Kinetic Energy [MeV]\", 50, 0, 400),\n",
    "                                )\n",
    "hists[\"kaon_pdgid_hist_n1\"] = hist.Hist(\"Sim Lambda\",      \n",
    "                                hist.Bin(\"pdgid\", r\"$\\Lambda$ Kinetic Energy [MeV]\", 50, 0, 400),\n",
    "                                )\n",
    "hists[\"kaon_pdgid_hist_n2\"] = hist.Hist(\"Sim Lambda\",      \n",
    "                                hist.Bin(\"pdgid\", r\"$\\Lambda$ Kinetic Energy [MeV]\", 50, 0, 400),\n",
    "                                )\n",
    "\n",
    "\n",
    "hists[\"lambda_pdgid_hist_n1\"] = hist.Hist(\"Sim Lambda\",      \n",
    "                                hist.Bin(\"pdgid\", r\"$\\Lambda$ Kinetic Energy [MeV]\", 50, 0, 400),\n",
    "                                )\n",
    "hists[\"lambda_pdgid_hist_n2\"] = hist.Hist(\"Sim Lambda\",      \n",
    "                                hist.Bin(\"pdgid\", r\"$\\Lambda$ Kinetic Energy [MeV]\", 50, 0, 400),\n",
    "                                )\n"
   ]
  },
  {
   "cell_type": "code",
   "execution_count": 5,
   "id": "bcd25fab",
   "metadata": {},
   "outputs": [],
   "source": [
    "def ProcessChunk(chunk, hists):\n",
    "    ldmx_events = repackage(chunk)\n",
    "\n",
    "    sim_kaon = ldmx_events['Sim_Kaon']\n",
    "    sim_kaon_n = ldmx_events['n']['Sim_Kaon']\n",
    "    sim_lambda = ldmx_events['Sim_Lambda']\n",
    "    sim_lambda_dau1 = ldmx_events['Sim_Lambda_dau1']\n",
    "    sim_lambda_dau2 = ldmx_events['Sim_Lambda_dau2']\n",
    "    \n",
    "    lambda0_mass = 1115.683\n",
    "    kaon_mass = 497.648\n",
    "    #all lambda are 0 because they are the only light enough\n",
    "    \n",
    "    kplus_mask = ((flat(sim_kaon.pdgID)) == 321)\n",
    "    n1_mask = ((flat(sim_kaon_n)) == 1)\n",
    "    n2_mask = ((flat(sim_kaon_n)) == 2) \n",
    "    \n",
    "    hists[\"kaon_pdgid_hist\"].fill(\n",
    "                         pdgid=flat(sim_kaon.pdgID),\n",
    "                         )   \n",
    "    hists[\"kaon_pdgid_hist_n1\"].fill(\n",
    "                         pdgid=flat(sim_kaon[n1_mask].pdgID),\n",
    "                         )  \n",
    "    hists[\"kaon_pdgid_hist_n2\"].fill(\n",
    "                         pdgid=flat(sim_kaon[n2_mask].pdgID),\n",
    "                         )  \n",
    "    \n",
    "    hists[\"lambda_pdgid_hist_n1\"].fill(\n",
    "                         pdgid=flat(sim_lambda[kplus_mask].pdgID),\n",
    "                         )      "
   ]
  },
  {
   "cell_type": "code",
   "execution_count": 6,
   "id": "43e7c770",
   "metadata": {
    "scrolled": true
   },
   "outputs": [
    {
     "name": "stdout",
     "output_type": "stream",
     "text": [
      "process 1\n"
     ]
    },
    {
     "ename": "ValueError",
     "evalue": "in RegularArray attempting to get 936, index out of range\n\n(https://github.com/scikit-hep/awkward-1.0/blob/1.2.3/src/cpu-kernels/awkward_RegularArray_getitem_next_array_regularize.cpp#L19)",
     "output_type": "error",
     "traceback": [
      "\u001b[0;31m---------------------------------------------------------------------------\u001b[0m",
      "\u001b[0;31mValueError\u001b[0m                                Traceback (most recent call last)",
      "\u001b[0;32m<ipython-input-6-6c1d73238267>\u001b[0m in \u001b[0;36m<module>\u001b[0;34m\u001b[0m\n\u001b[1;32m      3\u001b[0m     \u001b[0mnchunk\u001b[0m \u001b[0;34m+=\u001b[0m \u001b[0;36m1\u001b[0m\u001b[0;34m\u001b[0m\u001b[0;34m\u001b[0m\u001b[0m\n\u001b[1;32m      4\u001b[0m     \u001b[0mprint\u001b[0m\u001b[0;34m(\u001b[0m\u001b[0;34m'process'\u001b[0m\u001b[0;34m,\u001b[0m\u001b[0mnchunk\u001b[0m\u001b[0;34m)\u001b[0m\u001b[0;34m\u001b[0m\u001b[0;34m\u001b[0m\u001b[0m\n\u001b[0;32m----> 5\u001b[0;31m     \u001b[0mProcessChunk\u001b[0m\u001b[0;34m(\u001b[0m\u001b[0mchunk\u001b[0m\u001b[0;34m,\u001b[0m \u001b[0mhists\u001b[0m\u001b[0;34m)\u001b[0m\u001b[0;34m\u001b[0m\u001b[0;34m\u001b[0m\u001b[0m\n\u001b[0m",
      "\u001b[0;32m<ipython-input-5-f621228c12fc>\u001b[0m in \u001b[0;36mProcessChunk\u001b[0;34m(chunk, hists)\u001b[0m\n\u001b[1;32m     27\u001b[0m \u001b[0;34m\u001b[0m\u001b[0m\n\u001b[1;32m     28\u001b[0m     hists[\"lambda_pdgid_hist_n1\"].fill(\n\u001b[0;32m---> 29\u001b[0;31m                          \u001b[0mpdgid\u001b[0m\u001b[0;34m=\u001b[0m\u001b[0mflat\u001b[0m\u001b[0;34m(\u001b[0m\u001b[0msim_lambda\u001b[0m\u001b[0;34m[\u001b[0m\u001b[0mkplus_mask\u001b[0m\u001b[0;34m]\u001b[0m\u001b[0;34m.\u001b[0m\u001b[0mpdgID\u001b[0m\u001b[0;34m)\u001b[0m\u001b[0;34m,\u001b[0m\u001b[0;34m\u001b[0m\u001b[0;34m\u001b[0m\u001b[0m\n\u001b[0m\u001b[1;32m     30\u001b[0m                          )      \n",
      "\u001b[0;32m/usr/local/lib/python3.9/site-packages/awkward/highlevel.py\u001b[0m in \u001b[0;36m__getitem__\u001b[0;34m(self, where)\u001b[0m\n\u001b[1;32m    991\u001b[0m         \"\"\"\n\u001b[1;32m    992\u001b[0m         \u001b[0;32mif\u001b[0m \u001b[0;32mnot\u001b[0m \u001b[0mhasattr\u001b[0m\u001b[0;34m(\u001b[0m\u001b[0mself\u001b[0m\u001b[0;34m,\u001b[0m \u001b[0;34m\"_tracers\"\u001b[0m\u001b[0;34m)\u001b[0m\u001b[0;34m:\u001b[0m\u001b[0;34m\u001b[0m\u001b[0;34m\u001b[0m\u001b[0m\n\u001b[0;32m--> 993\u001b[0;31m             \u001b[0;32mreturn\u001b[0m \u001b[0mak\u001b[0m\u001b[0;34m.\u001b[0m\u001b[0m_util\u001b[0m\u001b[0;34m.\u001b[0m\u001b[0mwrap\u001b[0m\u001b[0;34m(\u001b[0m\u001b[0mself\u001b[0m\u001b[0;34m.\u001b[0m\u001b[0mlayout\u001b[0m\u001b[0;34m[\u001b[0m\u001b[0mwhere\u001b[0m\u001b[0;34m]\u001b[0m\u001b[0;34m,\u001b[0m \u001b[0mself\u001b[0m\u001b[0;34m.\u001b[0m\u001b[0m_behavior\u001b[0m\u001b[0;34m)\u001b[0m\u001b[0;34m\u001b[0m\u001b[0;34m\u001b[0m\u001b[0m\n\u001b[0m\u001b[1;32m    994\u001b[0m         \u001b[0;32melse\u001b[0m\u001b[0;34m:\u001b[0m\u001b[0;34m\u001b[0m\u001b[0;34m\u001b[0m\u001b[0m\n\u001b[1;32m    995\u001b[0m             \u001b[0;32mreturn\u001b[0m \u001b[0mak\u001b[0m\u001b[0;34m.\u001b[0m\u001b[0m_connect\u001b[0m\u001b[0;34m.\u001b[0m\u001b[0m_jax\u001b[0m\u001b[0;34m.\u001b[0m\u001b[0mjax_utils\u001b[0m\u001b[0;34m.\u001b[0m\u001b[0m_jaxtracers_getitem\u001b[0m\u001b[0;34m(\u001b[0m\u001b[0mself\u001b[0m\u001b[0;34m,\u001b[0m \u001b[0mwhere\u001b[0m\u001b[0;34m)\u001b[0m\u001b[0;34m\u001b[0m\u001b[0;34m\u001b[0m\u001b[0m\n",
      "\u001b[0;31mValueError\u001b[0m: in RegularArray attempting to get 936, index out of range\n\n(https://github.com/scikit-hep/awkward-1.0/blob/1.2.3/src/cpu-kernels/awkward_RegularArray_getitem_next_array_regularize.cpp#L19)"
     ]
    }
   ],
   "source": [
    "nchunk = 0\n",
    "for chunk in ldmx_dict:\n",
    "    nchunk += 1\n",
    "    print('process',nchunk)\n",
    "    ProcessChunk(chunk, hists)\n"
   ]
  },
  {
   "cell_type": "code",
   "execution_count": null,
   "id": "19cd53f6",
   "metadata": {},
   "outputs": [],
   "source": [
    "print(hists[\"kaon_pdgid_hist\"])\n",
    "fig, ax = plt.subplots(1,3,figsize=(24,6), constrained_layout=True)\n",
    "hist.plot1d(hists[\"kaon_pdgid_hist\"],ax=ax[0],clear=False);\n",
    "hist.plot1d(hists[\"kaon_pdgid_hist_n1\"],ax=ax[1],clear=False);\n",
    "hist.plot1d(hists[\"kaon_pdgid_hist_n2\"],ax=ax[2],clear=False);\n"
   ]
  },
  {
   "cell_type": "code",
   "execution_count": null,
   "id": "cc5dff36",
   "metadata": {},
   "outputs": [],
   "source": []
  },
  {
   "cell_type": "code",
   "execution_count": null,
   "id": "14908fd9",
   "metadata": {},
   "outputs": [],
   "source": []
  }
 ],
 "metadata": {
  "kernelspec": {
   "display_name": "Python 3",
   "language": "python",
   "name": "python3"
  },
  "language_info": {
   "codemirror_mode": {
    "name": "ipython",
    "version": 3
   },
   "file_extension": ".py",
   "mimetype": "text/x-python",
   "name": "python",
   "nbconvert_exporter": "python",
   "pygments_lexer": "ipython3",
   "version": "3.9.1"
  }
 },
 "nbformat": 4,
 "nbformat_minor": 5
}
