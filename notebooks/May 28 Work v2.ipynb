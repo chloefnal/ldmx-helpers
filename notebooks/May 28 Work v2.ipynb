{
 "cells": [
  {
   "cell_type": "markdown",
   "id": "convenient-donna",
   "metadata": {},
   "source": [
    "## Exploring simulated data files from LDMX"
   ]
  },
  {
   "cell_type": "code",
   "execution_count": 1,
   "id": "fabulous-parker",
   "metadata": {},
   "outputs": [],
   "source": [
    "from coffea import hist\n",
    "import math\n",
    "\n",
    "%matplotlib inline\n",
    "import matplotlib.pyplot as plt\n",
    "import matplotlib.colors as colors\n",
    "import mplhep as hep\n",
    "plt.style.use(hep.style.CMS)\n",
    "\n",
    "import awkward as ak\n",
    "\n",
    "from matplotlib import colors\n",
    "POPTS={'norm':colors.LogNorm()}"
   ]
  },
  {
   "cell_type": "code",
   "execution_count": 8,
   "id": "interesting-basketball",
   "metadata": {},
   "outputs": [],
   "source": [
    "from data import getData, repackage\n",
    "ldmx_dict = getData(chunks=True, fnames=\"/Users/chloeg/Desktop/Work/Fermilab2021/HistData/kshort_pn_4GeV_May10_ntuple/*.root\")"
   ]
  },
  {
   "cell_type": "code",
   "execution_count": 9,
   "id": "arabic-consideration",
   "metadata": {},
   "outputs": [],
   "source": [
    "# let's define a couple of histograms\n",
    "# each .Bin defines a new axis of the histogram\n",
    "\n",
    "hists = {}\n",
    "hists[\"Target_kdau1_hist\"] = hist.Hist(\"Target SP Kaons\",\n",
    "                                #hist.Cat(\"Ktype\", \"Type of Kaon\"),        \n",
    "                                hist.Bin(\"pz1\", r\"$p_z$ [MeV]\", 40, 0, 3000),\n",
    "                                hist.Bin(\"e1\", r\"Energy [MeV]\", 40, 0, 3000),\n",
    "                            )\n",
    "\n",
    "hists[\"Target_kdau2_hist\"] = hist.Hist(\"Target SP Kaons\", \n",
    "                                #hist.Cat(\"Ktype\", \"Type of Kaon\"),        \n",
    "                                hist.Bin(\"e2\", r\"Electron Energy [MeV]\", 40, 0, 4000),\n",
    "                                hist.Bin(\"pz2\", r\"Photon Energy [MeV]\", 40, 0, 4000),\n",
    "                            )\n",
    "\n"
   ]
  },
  {
   "cell_type": "code",
   "execution_count": 10,
   "id": "graphic-river",
   "metadata": {},
   "outputs": [],
   "source": [
    "\n",
    "def ProcessChunk(chunk, hists):\n",
    "    ldmx_events = repackage(chunk)\n",
    "\n",
    "    target_kaon_dau1 = ldmx_events['Target_Kaon_dau1']\n",
    "    target_kaon_dau2 = ldmx_events['Target_Kaon_dau2']\n",
    "    \n",
    "    \n",
    "    #target_kaon = add_angle(target_kaon)\n",
    "    \n",
    "    #target_kaon_dau1 = ldmx_events['Target_Kaon_dau1']\n",
    "    #target_kaon_dau1 = add_angle(target_kaon_dau1)\n",
    "    \n",
    "    masks_id = {'Kshort': 310,\n",
    "                'Klong': 130,\n",
    "                'Kpm': 321,\n",
    "               }\n",
    "    masses = {'Kshort': 497.648,\n",
    "              'Klong': 497.648,\n",
    "              'Kpm': 493.677\n",
    "             }\n",
    "    \n",
    "    def flat(x,axis=None): # for now must cast while waiting for coffea to catch up\n",
    "        try:\n",
    "            return ak.to_numpy(ak.flatten(x,axis=axis)) \n",
    "        except:\n",
    "            return x\n",
    "        \n",
    "    for part,pmask in masks_id.items():\n",
    "        part_mask1p = (abs(target_kaon_dau1.pdgID)==pmask)\n",
    "        part_mask2p = (abs(target_kaon_dau2.pdgID)==pmask)\n",
    "        hists[\"Target_kdau1_hist\"].fill(\n",
    "                                 #Ktype=part,\n",
    "                                 e1=flat(target_kaon_dau1.e),\n",
    "                                 pz1=flat(target_kaon_dau1.pz),\n",
    "                                )\n",
    "    \n",
    "        hists[\"Target_kdau2_hist\"].fill(\n",
    "                                 #Ktype=part,\n",
    "                                 e2=flat(target_kaon_dau2.e),\n",
    "                                 pz2=flat(target_kaon_dau2.pz),\n",
    "                                )"
   ]
  },
  {
   "cell_type": "code",
   "execution_count": 11,
   "id": "pursuant-priest",
   "metadata": {},
   "outputs": [
    {
     "name": "stdout",
     "output_type": "stream",
     "text": [
      "process 1\n",
      "process 2\n",
      "process 3\n",
      "process 4\n",
      "process 5\n",
      "process 6\n",
      "process 7\n",
      "process 8\n",
      "process 9\n",
      "process 10\n"
     ]
    }
   ],
   "source": [
    "nchunk = 0\n",
    "for chunk in ldmx_dict:\n",
    "    # I usually test my code in one chunck only\n",
    "    #if nchunk >= 1: break\n",
    "    nchunk += 1\n",
    "    print('process',nchunk)\n",
    "    ProcessChunk(chunk, hists)"
   ]
  },
  {
   "cell_type": "code",
   "execution_count": 14,
   "id": "seasonal-worth",
   "metadata": {
    "scrolled": false
   },
   "outputs": [
    {
     "name": "stdout",
     "output_type": "stream",
     "text": [
      "<Hist (pz1,e1) instance at 0x12f88aa00>\n"
     ]
    },
    {
     "name": "stderr",
     "output_type": "stream",
     "text": [
      "/usr/local/lib/python3.9/site-packages/coffea/hist/plot.py:43: RuntimeWarning: All sumw are zero!  Cannot compute meaningful error bars\n",
      "  warnings.warn(\n",
      "/usr/local/lib/python3.9/site-packages/coffea/hist/plot.py:43: RuntimeWarning: All sumw are zero!  Cannot compute meaningful error bars\n",
      "  warnings.warn(\n",
      "/usr/local/lib/python3.9/site-packages/coffea/hist/plot.py:43: RuntimeWarning: All sumw are zero!  Cannot compute meaningful error bars\n",
      "  warnings.warn(\n",
      "/usr/local/lib/python3.9/site-packages/coffea/hist/plot.py:43: RuntimeWarning: All sumw are zero!  Cannot compute meaningful error bars\n",
      "  warnings.warn(\n"
     ]
    },
    {
     "data": {
      "image/png": "[encoded data removed]",
      "text/plain": [
       "<Figure size 1728x432 with 2 Axes>"
      ]
     },
     "metadata": {
      "needs_background": "light"
     },
     "output_type": "display_data"
    }
   ],
   "source": [
    "print(hists[\"Target_kdau1_hist\"])\n",
    "fig, ax = plt.subplots(1,2,figsize=(24,6), constrained_layout=True)\n",
    "hist.plot1d(hists[\"Target_kdau1_hist\"].sum('e1'),ax=ax[0],clear=False);\n",
    "hist.plot1d(hists[\"Target_kdau2_hist\"].sum('e2'),ax=ax[0],clear=False);\n",
    "\n",
    "\n",
    "hist.plot1d(hists[\"Target_kdau1_hist\"].sum('pz1'),ax=ax[1],clear=False);\n",
    "hist.plot1d(hists[\"Target_kdau2_hist\"].sum('pz2'),ax=ax[1],clear=False);\n",
    "#leg = ax.legend([r'$e^-$',r'$\\gamma$',r'$K$'])"
   ]
  },
  {
   "cell_type": "code",
   "execution_count": null,
   "id": "tender-letter",
   "metadata": {},
   "outputs": [],
   "source": []
  }
 ],
 "metadata": {
  "kernelspec": {
   "display_name": "Python 3",
   "language": "python",
   "name": "python3"
  },
  "language_info": {
   "codemirror_mode": {
    "name": "ipython",
    "version": 3
   },
   "file_extension": ".py",
   "mimetype": "text/x-python",
   "name": "python",
   "nbconvert_exporter": "python",
   "pygments_lexer": "ipython3",
   "version": "3.9.1"
  }
 },
 "nbformat": 4,
 "nbformat_minor": 5
}
