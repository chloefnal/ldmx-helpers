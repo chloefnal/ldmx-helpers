{
 "cells": [
  {
   "cell_type": "code",
   "execution_count": 1,
   "id": "e0253557",
   "metadata": {},
   "outputs": [],
   "source": [
    "from coffea import hist\n",
    "import math\n",
    "\n",
    "%matplotlib inline\n",
    "import matplotlib.pyplot as plt\n",
    "import matplotlib.colors as colors\n",
    "import mplhep as hep\n",
    "plt.style.use(hep.style.CMS)\n",
    "\n",
    "import awkward as ak\n",
    "\n",
    "from matplotlib import colors\n",
    "POPTS={'norm':colors.LogNorm()}"
   ]
  },
  {
   "cell_type": "code",
   "execution_count": 2,
   "id": "23d40dd4",
   "metadata": {},
   "outputs": [],
   "source": [
    "from data import getData, repackage\n",
    "ldmx_dict = getData(chunks=True, fnames=\"/Users/chloeg/Desktop/Work/Fermilab2021/HistData/kshort_pn_4GeV_Jun2_ntuple/pn_kshortfilter_1M_events_r0005_b47445.root\")"
   ]
  },
  {
   "cell_type": "code",
   "execution_count": 3,
   "id": "562a2933",
   "metadata": {},
   "outputs": [],
   "source": [
    "def extend_array(arr, new_attr, new_attr_name):\n",
    "    members={n:arr[n] for n in arr.fields}\n",
    "    members[new_attr_name] = new_attr\n",
    "    return ak.zip(members)\n",
    "\n",
    "def add_angle(arr,br=['px','py','pz','e'],name=\"theta\"):\n",
    "    from coffea.nanoevents.methods import vector\n",
    "    ak.behavior.update(vector.behavior)\n",
    "\n",
    "    part =  ak.zip({\"x\": arr.px,\n",
    "                    \"y\": arr.py,\n",
    "                    \"z\": arr.pz,\n",
    "                    \"t\": arr.e,\n",
    "                    },\n",
    "                    with_name=\"LorentzVector\")\n",
    "    arr = extend_array(arr, part.theta, name)\n",
    "    return arr\n",
    "\n",
    "def get_vector(arr):\n",
    "    from coffea.nanoevents.methods import vector\n",
    "    ak.behavior.update(vector.behavior)\n",
    "\n",
    "    part =  ak.zip({\"x\": arr.px,\n",
    "                    \"y\": arr.py,\n",
    "                    \"z\": arr.pz,\n",
    "                    \"t\": arr.e,\n",
    "                    },\n",
    "                    with_name=\"LorentzVector\")\n",
    "    return part\n",
    "\n",
    "def flat(x,axis=None): # for now must cast while waiting for coffea to catch up\n",
    "    try:\n",
    "        return ak.to_numpy(ak.flatten(x,axis=axis)) \n",
    "    except:\n",
    "        return x"
   ]
  },
  {
   "cell_type": "code",
   "execution_count": 4,
   "id": "18320354",
   "metadata": {},
   "outputs": [],
   "source": [
    "hists = {}\n",
    "hists[\"Target_mass_hist\"] = hist.Hist(\"Target SP Kaons\",\n",
    "                                hist.Bin(\"m\", r\"Mass\", 100, 0, 3500),\n",
    "                            )       "
   ]
  },
  {
   "cell_type": "code",
   "execution_count": 5,
   "id": "8631faac",
   "metadata": {},
   "outputs": [],
   "source": [
    "def ProcessChunk(chunk, hists):\n",
    "    ldmx_events = repackage(chunk)\n",
    "\n",
    "    target_kaon_dau1 = ldmx_events['TSP_Kaon_dau1']\n",
    "    target_kaon_dau2 = ldmx_events['TSP_Kaon_dau2']\n",
    "    target_kaon_dau3 = ldmx_events['TSP_Kaon_dau3']\n",
    "    target_kaon_dau4 = ldmx_events['TSP_Kaon_dau4']\n",
    "    \n",
    "    kshort_pdgid = 310\n",
    "    chargedpion_pdgid = 211\n",
    "    \n",
    "    # first select only events w 2 daughters\n",
    "    mask_2dau = (target_kaon_dau1.gd==0)\n",
    "    mask_4dau = (target_kaon_dau1.gd==1)\n",
    "    \n",
    "    kshort_mask = (abs(target_kaon_dau1.mompdgID)==kshort_pdgid)\n",
    "        \n",
    "    pidau1_mask = (abs(target_kaon_dau1.pdgID)==chargedpion_pdgid)\n",
    "    pidau2_mask = (abs(target_kaon_dau2.pdgID)==chargedpion_pdgid)\n",
    "\n",
    "    pidau1 = get_vector(target_kaon_dau1[pidau1_mask & kshort_mask & mask_2dau])\n",
    "    pidau2 = get_vector(target_kaon_dau2[pidau2_mask & kshort_mask & mask_2dau])\n",
    "\n",
    "    pisum = (pidau1 + pidau2)\n",
    "    print(pisum.mass)\n",
    "    print(flat(pidau1.mass).shape)\n",
    "    print(flat(pisum.mass).shape)\n",
    "    \n",
    "    hists[\"Target_mass_hist\"].fill(      \n",
    "                                 m=flat(pisum),      \n",
    "                                )\n",
    "    \n",
    "    return"
   ]
  },
  {
   "cell_type": "code",
   "execution_count": 6,
   "id": "c6815603",
   "metadata": {},
   "outputs": [
    {
     "name": "stdout",
     "output_type": "stream",
     "text": [
      "process 1\n",
      "[[], [], [], [], [], [], [], [], [], [], ... [], [], [], [], [], [], [], [], [], []]\n",
      "(0,)\n",
      "(0,)\n"
     ]
    }
   ],
   "source": [
    "nchunk = 0\n",
    "for chunk in ldmx_dict:\n",
    "    if nchunk >= 1: break\n",
    "    nchunk += 1\n",
    "    print('process',nchunk)\n",
    "    ProcessChunk(chunk, hists)"
   ]
  },
  {
   "cell_type": "code",
   "execution_count": 7,
   "id": "658ef9ad",
   "metadata": {},
   "outputs": [
    {
     "name": "stdout",
     "output_type": "stream",
     "text": [
      "<Hist (m) instance at 0x12e29e070>\n"
     ]
    },
    {
     "name": "stderr",
     "output_type": "stream",
     "text": [
      "/usr/local/lib/python3.9/site-packages/coffea/hist/plot.py:43: RuntimeWarning: All sumw are zero!  Cannot compute meaningful error bars\n",
      "  warnings.warn(\n"
     ]
    },
    {
     "data": {
      "image/png": "[encoded data removed]",
      "text/plain": [
       "<Figure size 720x720 with 1 Axes>"
      ]
     },
     "metadata": {
      "needs_background": "light"
     },
     "output_type": "display_data"
    }
   ],
   "source": [
    "print(hists[\"Target_mass_hist\"])\n",
    "fig, ax = plt.subplots()\n",
    "hist.plot1d(hists[\"Target_mass_hist\"],ax=ax,clear=False);\n",
    "#leg = ax.legend([r'$\\pi ^+/-$ from $K_s$'])"
   ]
  },
  {
   "cell_type": "code",
   "execution_count": null,
   "id": "eb4328e3",
   "metadata": {},
   "outputs": [],
   "source": []
  }
 ],
 "metadata": {
  "kernelspec": {
   "display_name": "Python 3",
   "language": "python",
   "name": "python3"
  },
  "language_info": {
   "codemirror_mode": {
    "name": "ipython",
    "version": 3
   },
   "file_extension": ".py",
   "mimetype": "text/x-python",
   "name": "python",
   "nbconvert_exporter": "python",
   "pygments_lexer": "ipython3",
   "version": "3.9.1"
  }
 },
 "nbformat": 4,
 "nbformat_minor": 5
}
