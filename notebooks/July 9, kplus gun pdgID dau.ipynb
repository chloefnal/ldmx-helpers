{
 "cells": [
  {
   "cell_type": "code",
   "execution_count": 1,
   "id": "766e2a4f",
   "metadata": {},
   "outputs": [],
   "source": [
    "from coffea import hist\n",
    "import math\n",
    "\n",
    "%matplotlib inline\n",
    "import matplotlib.pyplot as plt\n",
    "import matplotlib.colors as colors\n",
    "import mplhep as hep\n",
    "import numpy as np\n",
    "plt.style.use(hep.style.CMS)\n",
    "\n",
    "import awkward as ak\n",
    "\n",
    "from matplotlib import colors\n",
    "POPTS={'norm':colors.LogNorm()}"
   ]
  },
  {
   "cell_type": "code",
   "execution_count": 2,
   "id": "6dd51abf",
   "metadata": {},
   "outputs": [],
   "source": [
    "from data import getData, repackage\n",
    "ldmx_dict = getData(chunks=True, fnames=\"/Users/chloeg/Desktop/Work/Fermilab2021/HistData/kplus_gps_1to3p5_Jul8_ntuple/*.root\")"
   ]
  },
  {
   "cell_type": "code",
   "execution_count": 3,
   "id": "33672d97",
   "metadata": {},
   "outputs": [],
   "source": [
    "def extend_array(arr, new_attr, new_attr_name):\n",
    "    members={n:arr[n] for n in arr.fields}\n",
    "    members[new_attr_name] = new_attr\n",
    "    return ak.zip(members)\n",
    "\n",
    "def add_angle(arr,br=['px','py','pz','e'],name=\"theta\"):\n",
    "    from coffea.nanoevents.methods import vector\n",
    "    ak.behavior.update(vector.behavior)\n",
    "\n",
    "    part =  ak.zip({\"x\": arr.px,\n",
    "                    \"y\": arr.py,\n",
    "                    \"z\": arr.pz,\n",
    "                    \"t\": arr.e,\n",
    "                    },\n",
    "                    with_name=\"LorentzVector\")\n",
    "    arr = extend_array(arr, part.theta, name)\n",
    "    return arr\n",
    "\n",
    "def get_vector(arr):\n",
    "    from coffea.nanoevents.methods import vector\n",
    "    ak.behavior.update(vector.behavior)\n",
    "\n",
    "    part =  ak.zip({\"x\": arr.px,\n",
    "                    \"y\": arr.py,\n",
    "                    \"z\": arr.pz,\n",
    "                    \"t\": arr.e,\n",
    "                    },\n",
    "                    with_name=\"LorentzVector\")\n",
    "    return part\n",
    "\n",
    "def flat(x,axis=None): # for now must cast while waiting for coffea to catch up\n",
    "    try:\n",
    "        return ak.to_numpy(ak.flatten(x,axis=axis)) \n",
    "    except:\n",
    "        return x"
   ]
  },
  {
   "cell_type": "code",
   "execution_count": 4,
   "id": "992172ab",
   "metadata": {},
   "outputs": [],
   "source": [
    "hists = {}\n",
    "\n",
    "\n",
    "hists[\"hist_dau1_pdgID\"] = hist.Hist(\"Sim Particle\",\n",
    "                                hist.Cat(\"Ptype\", \"Type of Particle\"),\n",
    "                                hist.Bin(\"e\", r\"PDG ID\", 50, 0, 20)\n",
    "                            )\n",
    "hists[\"hist_dau2_pdgID\"] = hist.Hist(\"Sim Particle\",\n",
    "                                hist.Cat(\"Ptype\", \"Type of Particle\"),\n",
    "                                hist.Bin(\"e\", r\"PDG ID\", 50, 0, 20)\n",
    "                            )\n",
    "#25, -220, 3000\n",
    "hists[\"hist_dau1_e\"] = hist.Hist(\"Sim Particle\",\n",
    "                                hist.Cat(\"Ptype\", \"Type of Particle\"),\n",
    "                                hist.Bin(\"e\", r\"Energy [MeV]\", 25, 0, 500)\n",
    "                            )\n",
    "hists[\"hist_dau2_e\"] = hist.Hist(\"Sim Particle\",\n",
    "                                hist.Cat(\"Ptype\", \"Type of Particle\"),\n",
    "                                hist.Bin(\"e\", r\"Energy [MeV]\", 25, 0, 500)\n",
    "                            )\n",
    "#25, 0, 3000\n",
    "hists[\"hist_dau1_ke\"] = hist.Hist(\"Sim Particle\",\n",
    "                                hist.Cat(\"Ptype\", \"Type of Particle\"),\n",
    "                                hist.Bin(\"e\", r\"Kinetic Energy [MeV]\", 25, 0, 500)\n",
    "                            )\n",
    "hists[\"hist_dau2_ke\"] = hist.Hist(\"Sim Particle\",\n",
    "                                hist.Cat(\"Ptype\", \"Type of Particle\"),\n",
    "                                hist.Bin(\"e\", r\"Kinetic Energy [MeV]\", 25, 0, 500)\n",
    "                            )\n",
    "#25, 0, 3000\n"
   ]
  },
  {
   "cell_type": "code",
   "execution_count": 5,
   "id": "2b1bfb1b",
   "metadata": {},
   "outputs": [],
   "source": [
    "def ProcessChunk(chunk, hists):\n",
    "    ldmx_events = repackage(chunk)\n",
    "    \n",
    "    sim_particle = ldmx_events['Sim_Particle']\n",
    "    sim_particle_n = ldmx_events['n']['Sim_Particle']\n",
    "    sim_particle_dau1 = ldmx_events['Sim_Particle_dau1']\n",
    "    sim_particle_dau2 = ldmx_events['Sim_Particle_dau2']\n",
    "    \n",
    "    \n",
    "    masks_id = {#'Kplus': 321,\n",
    "                #'Kshort': 310,\n",
    "                #'Kminus': -321,\n",
    "                'Electron': 11,\n",
    "                'NuMuplus': 14,\n",
    "                #'NuMuminus': -14,\n",
    "                #'NuMuplus': 12,\n",
    "                #'NuMuminus': -12,\n",
    "                #'Piplus': 211,\n",
    "                #'Piminus': -211,\n",
    "                #'Muminus': 13,\n",
    "                #'Muplus': -13,\n",
    "                #'Proton':2212,\n",
    "                #'Neutron':2112,\n",
    "               }\n",
    "    masses = {#'Kplus': 493.677,\n",
    "              #'Kshort': 493.677,\n",
    "              #'Kminus': 493.677,\n",
    "              'Electron': 0.51099895,\n",
    "              'NuMuplus': 0,\n",
    "              #'NuMuminus': 0,\n",
    "              #'NuEplus': 0,\n",
    "              #'NuEminus': 0,\n",
    "              #'Piplus': 139.57039,\n",
    "              #'Piminus': 139.57039,\n",
    "              #'Muminus': 105.658,\n",
    "              #'Muplus': 105.658,\n",
    "              #'Proton': 939.565,\n",
    "              #'Neutron': 939.565,\n",
    "              }\n",
    "\n",
    "    decay1_mask = (flat(sim_particle_dau1.momdecay)==8)\n",
    "    decay2_mask = (flat(sim_particle_dau2.momdecay)==8)\n",
    "  \n",
    "    dau1 = get_vector(sim_particle_dau1[decay1_mask])\n",
    "    dau2 = get_vector(sim_particle_dau2[decay2_mask])\n",
    "    \n",
    "    for part,pmask in masks_id.items():\n",
    "        part_mask1 = (sim_particle_dau1[decay1_mask].pdgID == pmask)\n",
    "        hists[\"hist_dau1_e\"].fill(Ptype= part,\n",
    "                                     e=flat(sim_particle_dau1[decay1_mask].e[part_mask1]),\n",
    "                                     )   \n",
    "        hists[\"hist_dau1_ke\"].fill(Ptype= part,\n",
    "                                     e=flat(sim_particle_dau1[decay1_mask].e[part_mask1]) - masses[part],\n",
    "                                     )   \n",
    "        hists[\"hist_dau1_pdgID\"].fill(Ptype= part,\n",
    "                                     e=flat(sim_particle_dau1[decay1_mask].pdgID[part_mask1]),\n",
    "                                     )  \n",
    "        part_mask2 = (sim_particle_dau2[decay2_mask].pdgID == pmask)\n",
    "        hists[\"hist_dau2_e\"].fill(Ptype= part,\n",
    "                                     e=flat(sim_particle_dau2[decay2_mask].e[part_mask2]),\n",
    "                                     )  \n",
    "        hists[\"hist_dau2_ke\"].fill(Ptype= part,\n",
    "                                     e=flat(sim_particle_dau2[decay2_mask].e[part_mask2]) - masses[part],\n",
    "                                     )   \n",
    "        hists[\"hist_dau2_pdgID\"].fill(Ptype= part,\n",
    "                                     e=flat(sim_particle_dau2[decay2_mask].pdgID[part_mask2]),\n",
    "                                     )\n",
    "    print(flat(sim_particle_dau1[decay1_mask].pdgID))\n",
    "    print(flat(sim_particle_dau2[decay2_mask].pdgID))"
   ]
  },
  {
   "cell_type": "code",
   "execution_count": 6,
   "id": "c852df31",
   "metadata": {},
   "outputs": [
    {
     "name": "stdout",
     "output_type": "stream",
     "text": [
      "process 1\n",
      "[11.]\n",
      "[]\n",
      "process 2\n",
      "[11.]\n",
      "[]\n",
      "process 3\n",
      "[]\n",
      "[11.]\n",
      "process 4\n",
      "[11. 11. 14. 11.]\n",
      "[11.]\n",
      "process 5\n",
      "[11.]\n",
      "[]\n"
     ]
    }
   ],
   "source": [
    "nchunk = 0\n",
    "for chunk in ldmx_dict:\n",
    "    nchunk += 1\n",
    "    print('process',nchunk)\n",
    "    ProcessChunk(chunk, hists)"
   ]
  },
  {
   "cell_type": "code",
   "execution_count": 7,
   "id": "1744f2dd",
   "metadata": {
    "scrolled": false
   },
   "outputs": [],
   "source": [
    "#print(hists[\"hist_dau1_e\"])\n",
    "#fig, ax = plt.subplots()\n",
    "#hist.plot1d(hists[\"hist_dau1_e\"],ax=ax,clear=False);\n",
    "#leg = ax.legend([r'$e^-$', r'$K^-$', r'$K^+$', r'$\\nu_\\mu$', r'$\\pi^-$', r'$\\pi^+$'])\n",
    "#ax.text(10, 4.5, 'Decay2')\n",
    "\n",
    "#fig, ax = plt.subplots()\n",
    "#hist.plot1d(hists[\"hist_dau1_ke\"],ax=ax,clear=False);\n",
    "#leg = ax.legend([r'$e^-$', r'$K^-$', r'$K^+$', r'$\\nu_\\mu$', r'$\\pi^-$', r'$\\pi^+$'])\n",
    "#ax.text(10, 4.5, 'Decay2')\n",
    "\n",
    "#fig, ax = plt.subplots()\n",
    "#hist.plot1d(hists[\"hist_dau1_pdgID\"]+hists[\"hist_dau1_pdgID\"],ax=ax,clear=False);\n",
    "#leg = ax.legend([r'$e^-$', r'$K^-$', r'$K^+$',r'$\\mu^-$', r'$\\mu^+$', r'$\\nu_\\mu$', r'$\\pi^-$', r'$\\pi^+$' ])\n",
    "#ax[2].text(5, 40, 'Decay4')\n"
   ]
  },
  {
   "cell_type": "code",
   "execution_count": 14,
   "id": "9f839f82",
   "metadata": {},
   "outputs": [
    {
     "name": "stdout",
     "output_type": "stream",
     "text": [
      "<Hist (Ptype,e) instance at 0x10ef33f10>\n"
     ]
    },
    {
     "data": {
      "text/plain": [
       "Text(1, 11.5, 'Decay 8')"
      ]
     },
     "execution_count": 14,
     "metadata": {},
     "output_type": "execute_result"
    },
    {
     "data": {
      "image/png": "[encoded data removed]",
      "text/plain": [
       "<Figure size 1728x504 with 3 Axes>"
      ]
     },
     "metadata": {
      "needs_background": "light"
     },
     "output_type": "display_data"
    }
   ],
   "source": [
    "print(hists[\"hist_dau1_e\"])\n",
    "fig, ax = plt.subplots(1,3, figsize=(24,7), constrained_layout=True)\n",
    "hist.plot1d(hists[\"hist_dau1_e\"]+hists[\"hist_dau2_e\"],ax=ax[0],clear=False);\n",
    "leg = ax[0].legend([r'$e^-$',r'$\\nu_\\mu$'])\n",
    "#ax[0].text(70, 4.5, 'Decay 1')\n",
    "#ax[0].text(50, 17, 'Decay 2')\n",
    "#ax[0].text(50, 12.7, 'Decay 7')\n",
    "ax[0].text(20, 11.5, 'Decay 8')\n",
    "\n",
    "hist.plot1d(hists[\"hist_dau1_ke\"]+hists[\"hist_dau2_ke\"],ax=ax[1],clear=False);\n",
    "leg = ax[1].legend([r'$e^-$',r'$\\nu_\\mu$'])\n",
    "#ax[1].text(70, 4.5, 'Decay 1')\n",
    "#ax[1].text(50, 17, 'Decay 2')\n",
    "#ax[1].text(50, 12.7, 'Decay 7')\n",
    "ax[1].text(20, 11.5, 'Decay 8')\n",
    "\n",
    "hist.plot1d(hists[\"hist_dau1_pdgID\"]+hists[\"hist_dau2_pdgID\"],ax=ax[2],clear=False);\n",
    "leg = ax[2].legend([r'$e^-$',r'$\\nu_\\mu$'])\n",
    "#ax[2].text(-200, 4.5, 'Decay 1')\n",
    "#ax[2].text(100, 17, 'Decay 2')\n",
    "#ax[2].text(50, 12.7, 'Decay 7')\n",
    "ax[2].text(1, 11.5, 'Decay 8')\n",
    "\n",
    "\n",
    "\n",
    "\n",
    "#decay 1: legend([r'$e^-$',r'$K_s$', r'$\\nu_\\mu$',r'$\\pi^-$'])\n",
    "#decay 2: legend([r'$e^-$',r'$\\mu^+$',r'$\\pi^-$',  r'$p^+$'])\n",
    "#decay 7: legend([r'$e^-$',r'$\\nu_\\mu$',r'$\\pi^+$',  r'$p^+$'])\n",
    "#decay 8: legend([r'$e^-$',r'$\\nu_\\mu$'])\n",
    "\n"
   ]
  },
  {
   "cell_type": "code",
   "execution_count": null,
   "id": "0358bba7",
   "metadata": {},
   "outputs": [],
   "source": []
  }
 ],
 "metadata": {
  "kernelspec": {
   "display_name": "Python 3",
   "language": "python",
   "name": "python3"
  },
  "language_info": {
   "codemirror_mode": {
    "name": "ipython",
    "version": 3
   },
   "file_extension": ".py",
   "mimetype": "text/x-python",
   "name": "python",
   "nbconvert_exporter": "python",
   "pygments_lexer": "ipython3",
   "version": "3.9.1"
  }
 },
 "nbformat": 4,
 "nbformat_minor": 5
}
