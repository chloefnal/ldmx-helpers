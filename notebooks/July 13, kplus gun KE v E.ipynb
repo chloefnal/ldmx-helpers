{
 "cells": [
  {
   "cell_type": "code",
   "execution_count": 1,
   "id": "c1733af1",
   "metadata": {},
   "outputs": [],
   "source": [
    "from coffea import hist\n",
    "import math\n",
    "\n",
    "%matplotlib inline\n",
    "import matplotlib.pyplot as plt\n",
    "import matplotlib.colors as colors\n",
    "import matplotlib.lines as lines\n",
    "import mplhep as hep\n",
    "import numpy as np\n",
    "import random\n",
    "plt.style.use(hep.style.CMS)\n",
    "\n",
    "import awkward as ak\n",
    "\n",
    "from matplotlib import colors\n",
    "POPTS={'norm':colors.LogNorm(vmin=1,vmax=15)}"
   ]
  },
  {
   "cell_type": "code",
   "execution_count": 2,
   "id": "4451474a",
   "metadata": {},
   "outputs": [],
   "source": [
    "from data import getData, repackage\n",
    "ldmx_dict = getData(chunks=True, fnames=\"/Users/chloeg/Desktop/Work/Fermilab2021/HistData/kaon_pn_4GeV_Jul13_nobias_ntuple.root\")"
   ]
  },
  {
   "cell_type": "code",
   "execution_count": 3,
   "id": "c6fc735d",
   "metadata": {},
   "outputs": [],
   "source": [
    "def extend_array(arr, new_attr, new_attr_name):\n",
    "    members={n:arr[n] for n in arr.fields}\n",
    "    members[new_attr_name] = new_attr\n",
    "    return ak.zip(members)\n",
    "\n",
    "def add_angle(arr,br=['px','py','pz','e'],name=\"theta\"):\n",
    "    from coffea.nanoevents.methods import vector\n",
    "    ak.behavior.update(vector.behavior)\n",
    "\n",
    "    part =  ak.zip({\"x\": arr.px,\n",
    "                    \"y\": arr.py,\n",
    "                    \"z\": arr.pz,\n",
    "                    \"t\": arr.e,\n",
    "                    },\n",
    "                    with_name=\"LorentzVector\")\n",
    "    arr = extend_array(arr, part.theta, name)\n",
    "    return arr\n",
    "\n",
    "def get_vector(arr):\n",
    "    from coffea.nanoevents.methods import vector\n",
    "    ak.behavior.update(vector.behavior)\n",
    "\n",
    "    part =  ak.zip({\"x\": arr.px,\n",
    "                    \"y\": arr.py,\n",
    "                    \"z\": arr.pz,\n",
    "                    \"t\": arr.e,\n",
    "                    },\n",
    "                    with_name=\"LorentzVector\")\n",
    "    return part\n",
    "\n",
    "def flat(x,axis=None): # for now must cast while waiting for coffea to catch up\n",
    "    try:\n",
    "        return ak.to_numpy(ak.flatten(x,axis=axis)) \n",
    "    except:\n",
    "        return x\n",
    "    \n",
    "    \n",
    "def track_smear(kinetic_energy, theta):\n",
    "    # assume flat uncertainty on the energy (I think that is 6%)\n",
    "    c_eres = random.gauss(1.,0.06); # flat 10% uncertainty for now\n",
    "    # assume some uncertainty on the angle (I think that is 2%)\n",
    "    c_hres = random.gauss(0.,0.02); # 1 degrees\n",
    "    return (c_eres*kinetic_energy, abs(c_hres+theta))\n",
    "\n",
    "def test_smear(pz):\n",
    "    c_eres_array = []\n",
    "    for part in pz:\n",
    "        for element in part:\n",
    "            if element <= 50:\n",
    "                c_eres = random.gauss(1,0.0404);\n",
    "            elif element <= 100: \n",
    "                c_eres = random.gauss(1,0.0410);\n",
    "            elif element <= 250: \n",
    "                c_eres = random.gauss(1,0.0415);\n",
    "            elif element <= 500: \n",
    "                c_eres = random.gauss(1,0.0420);\n",
    "            elif element <= 1000: \n",
    "                c_eres = random.gauss(1,0.0435);\n",
    "            elif element <= 2000:  \n",
    "                c_eres = random.gauss(1,0.0477);\n",
    "            elif element <= 3000:  \n",
    "                c_eres = random.gauss(1,0.0523);\n",
    "            elif element <= 4000:  \n",
    "                c_eres = random.gauss(1,0.0573);            \n",
    "            else:    \n",
    "                c_eres = random.gauss(1,0.06);\n",
    "            c_eres_array=np.append(c_eres_array, [c_eres])\n",
    "    return (c_eres_array)    "
   ]
  },
  {
   "cell_type": "code",
   "execution_count": 4,
   "id": "c25040e7",
   "metadata": {},
   "outputs": [],
   "source": [
    "hists = {}\n",
    "hists[\"hist_kaon_e\"] = hist.Hist(\"Sim Pions\",  \n",
    "                                hist.Bin(\"k\", r\"$K$ Kinetic Energy [MeV]\", 40, 0, 3500),\n",
    "                                hist.Bin(\"e\", r\"Electron Energy [MeV]\", 40, 0, 1500),\n",
    "                            )\n",
    "hists[\"hist_kaon_e_40\"] = hist.Hist(\"Sim Pions\",      \n",
    "                                hist.Bin(\"k\", r\"$K$ Kinetic Energy [MeV]\", 40, 0, 3500),\n",
    "                                hist.Bin(\"e\", r\"Electron Energy [MeV]\", 40, 0, 1500),\n",
    "                            )"
   ]
  },
  {
   "cell_type": "code",
   "execution_count": 5,
   "id": "c1391b2f",
   "metadata": {},
   "outputs": [],
   "source": [
    "def ProcessChunk(chunk, hists):\n",
    "    ldmx_events = repackage(chunk)\n",
    "    \n",
    "    sim_particle = ldmx_events['Sim_Kaon']\n",
    "    sim_particle_dau1 = ldmx_events['Sim_Kaon_dau1']\n",
    "    sim_particle_dau2 = ldmx_events['Sim_Kaon_dau2']\n",
    "    \n",
    "    particle_vector = get_vector(sim_particle)\n",
    "    dau1 = get_vector(sim_particle_dau1)\n",
    "    dau2 = get_vector(sim_particle_dau2)\n",
    "\n",
    "    theta_mask1 = dau1.theta*180/math.pi <=40\n",
    "    theta_mask2 = dau2.theta*180/math.pi <=40\n",
    "    \n",
    "    kaon_mass = 493.677\n",
    "    \n",
    "    hists[\"hist_kaon_e\"].fill(\n",
    "                                 k = flat(flat(sim_particle.e) - kaon_mass),\n",
    "                                 e = flat(sim_particle.electrone),\n",
    "                                )\n",
    "    hists[\"hist_kaon_e\"].fill(\n",
    "                                 k = flat(flat(sim_particle[theta_mask1&theta_mask2].e) - kaon_mass),\n",
    "                                 e = flat(sim_particle[theta_mask1&theta_mask2].electrone),\n",
    "                                )\n",
    "\n",
    "    \n",
    "    #hists[\"sim_kaone_hist_thetacut\"].fill(\n",
    "    #                             k = flat(pisum_track_smeared[theta_mask1].t) - kaon_mass,\n",
    "    #                             e = flat(sim_kaon_dau2[kshort_mask][theta_mask2].electrone),\n",
    "    #                            )\n"
   ]
  },
  {
   "cell_type": "code",
   "execution_count": 6,
   "id": "f2215b25",
   "metadata": {
    "scrolled": true
   },
   "outputs": [
    {
     "name": "stdout",
     "output_type": "stream",
     "text": [
      "process 1\n"
     ]
    }
   ],
   "source": [
    "nchunk = 0\n",
    "for chunk in ldmx_dict:\n",
    "    nchunk += 1\n",
    "    ProcessChunk(chunk, hists)\n",
    "    print('process', nchunk)"
   ]
  },
  {
   "cell_type": "code",
   "execution_count": 9,
   "id": "7aabccc5",
   "metadata": {
    "scrolled": false
   },
   "outputs": [
    {
     "name": "stdout",
     "output_type": "stream",
     "text": [
      "<Hist (k,e) instance at 0x13122d400>\n"
     ]
    },
    {
     "ename": "KeyError",
     "evalue": "()",
     "output_type": "error",
     "traceback": [
      "\u001b[0;31m---------------------------------------------------------------------------\u001b[0m",
      "\u001b[0;31mKeyError\u001b[0m                                  Traceback (most recent call last)",
      "\u001b[0;32m<ipython-input-9-e171a937fd77>\u001b[0m in \u001b[0;36m<module>\u001b[0;34m\u001b[0m\n\u001b[1;32m      5\u001b[0m \u001b[0;31m#ax.text(2900, 1400,r'All $\\theta$')\u001b[0m\u001b[0;34m\u001b[0m\u001b[0;34m\u001b[0m\u001b[0;34m\u001b[0m\u001b[0m\n\u001b[1;32m      6\u001b[0m \u001b[0mfig\u001b[0m\u001b[0;34m,\u001b[0m \u001b[0max\u001b[0m \u001b[0;34m=\u001b[0m \u001b[0mplt\u001b[0m\u001b[0;34m.\u001b[0m\u001b[0msubplots\u001b[0m\u001b[0;34m(\u001b[0m\u001b[0;34m)\u001b[0m\u001b[0;34m\u001b[0m\u001b[0;34m\u001b[0m\u001b[0m\n\u001b[0;32m----> 7\u001b[0;31m \u001b[0mhist\u001b[0m\u001b[0;34m.\u001b[0m\u001b[0mplot2d\u001b[0m\u001b[0;34m(\u001b[0m\u001b[0mhists\u001b[0m\u001b[0;34m[\u001b[0m\u001b[0;34m\"hist_kaon_e_40\"\u001b[0m\u001b[0;34m]\u001b[0m\u001b[0;34m,\u001b[0m \u001b[0mxaxis\u001b[0m\u001b[0;34m=\u001b[0m\u001b[0;34m'k'\u001b[0m\u001b[0;34m,\u001b[0m \u001b[0max\u001b[0m\u001b[0;34m=\u001b[0m\u001b[0max\u001b[0m\u001b[0;34m,\u001b[0m \u001b[0mpatch_opts\u001b[0m\u001b[0;34m=\u001b[0m\u001b[0mPOPTS\u001b[0m\u001b[0;34m)\u001b[0m\u001b[0;34m;\u001b[0m\u001b[0;34m\u001b[0m\u001b[0;34m\u001b[0m\u001b[0m\n\u001b[0m",
      "\u001b[0;32m/usr/local/lib/python3.9/site-packages/coffea/hist/plot.py\u001b[0m in \u001b[0;36mplot2d\u001b[0;34m(hist, xaxis, ax, clear, xoverflow, yoverflow, patch_opts, text_opts, density, binwnorm)\u001b[0m\n\u001b[1;32m    554\u001b[0m         \u001b[0mxedges\u001b[0m \u001b[0;34m=\u001b[0m \u001b[0mxaxis\u001b[0m\u001b[0;34m.\u001b[0m\u001b[0medges\u001b[0m\u001b[0;34m(\u001b[0m\u001b[0moverflow\u001b[0m\u001b[0;34m=\u001b[0m\u001b[0mxoverflow\u001b[0m\u001b[0;34m)\u001b[0m\u001b[0;34m\u001b[0m\u001b[0;34m\u001b[0m\u001b[0m\n\u001b[1;32m    555\u001b[0m         \u001b[0myedges\u001b[0m \u001b[0;34m=\u001b[0m \u001b[0myaxis\u001b[0m\u001b[0;34m.\u001b[0m\u001b[0medges\u001b[0m\u001b[0;34m(\u001b[0m\u001b[0moverflow\u001b[0m\u001b[0;34m=\u001b[0m\u001b[0myoverflow\u001b[0m\u001b[0;34m)\u001b[0m\u001b[0;34m\u001b[0m\u001b[0;34m\u001b[0m\u001b[0m\n\u001b[0;32m--> 556\u001b[0;31m         \u001b[0msumw\u001b[0m\u001b[0;34m,\u001b[0m \u001b[0msumw2\u001b[0m \u001b[0;34m=\u001b[0m \u001b[0mhist\u001b[0m\u001b[0;34m.\u001b[0m\u001b[0mvalues\u001b[0m\u001b[0;34m(\u001b[0m\u001b[0msumw2\u001b[0m\u001b[0;34m=\u001b[0m\u001b[0;32mTrue\u001b[0m\u001b[0;34m,\u001b[0m \u001b[0moverflow\u001b[0m\u001b[0;34m=\u001b[0m\u001b[0;34m\"allnan\"\u001b[0m\u001b[0;34m)\u001b[0m\u001b[0;34m[\u001b[0m\u001b[0;34m(\u001b[0m\u001b[0;34m)\u001b[0m\u001b[0;34m]\u001b[0m\u001b[0;34m\u001b[0m\u001b[0;34m\u001b[0m\u001b[0m\n\u001b[0m\u001b[1;32m    557\u001b[0m         \u001b[0;32mif\u001b[0m \u001b[0mtranspose\u001b[0m\u001b[0;34m:\u001b[0m\u001b[0;34m\u001b[0m\u001b[0;34m\u001b[0m\u001b[0m\n\u001b[1;32m    558\u001b[0m             \u001b[0msumw\u001b[0m \u001b[0;34m=\u001b[0m \u001b[0msumw\u001b[0m\u001b[0;34m.\u001b[0m\u001b[0mT\u001b[0m\u001b[0;34m\u001b[0m\u001b[0;34m\u001b[0m\u001b[0m\n",
      "\u001b[0;31mKeyError\u001b[0m: ()"
     ]
    },
    {
     "data": {
      "image/png": "[encoded data removed]",
      "text/plain": [
       "<Figure size 720x720 with 2 Axes>"
      ]
     },
     "metadata": {
      "needs_background": "light"
     },
     "output_type": "display_data"
    },
    {
     "data": {
      "image/png": "[encoded data removed]",
      "text/plain": [
       "<Figure size 720x720 with 1 Axes>"
      ]
     },
     "metadata": {
      "needs_background": "light"
     },
     "output_type": "display_data"
    }
   ],
   "source": [
    "print(hists[\"hist_kaon_e\"])\n",
    "\n",
    "fig, ax = plt.subplots()\n",
    "hist.plot2d(hists[\"hist_kaon_e\"], xaxis='k', ax=ax, patch_opts=POPTS);\n",
    "#ax.text(2900, 1400,r'All $\\theta$')\n",
    "fig, ax = plt.subplots()\n",
    "hist.plot2d(hists[\"hist_kaon_e_40\"], xaxis='k', ax=ax, patch_opts=POPTS);"
   ]
  },
  {
   "cell_type": "code",
   "execution_count": 8,
   "id": "c596ba13",
   "metadata": {},
   "outputs": [
    {
     "ename": "KeyError",
     "evalue": "'Target_kaone_hist'",
     "output_type": "error",
     "traceback": [
      "\u001b[0;31m---------------------------------------------------------------------------\u001b[0m",
      "\u001b[0;31mKeyError\u001b[0m                                  Traceback (most recent call last)",
      "\u001b[0;32m<ipython-input-8-07cb664104e6>\u001b[0m in \u001b[0;36m<module>\u001b[0;34m\u001b[0m\n\u001b[0;32m----> 1\u001b[0;31m \u001b[0mprint\u001b[0m\u001b[0;34m(\u001b[0m\u001b[0mhists\u001b[0m\u001b[0;34m[\u001b[0m\u001b[0;34m\"Target_kaone_hist\"\u001b[0m\u001b[0;34m]\u001b[0m\u001b[0;34m)\u001b[0m\u001b[0;34m\u001b[0m\u001b[0;34m\u001b[0m\u001b[0m\n\u001b[0m\u001b[1;32m      2\u001b[0m \u001b[0;34m\u001b[0m\u001b[0m\n\u001b[1;32m      3\u001b[0m \u001b[0mfig\u001b[0m\u001b[0;34m,\u001b[0m \u001b[0max\u001b[0m \u001b[0;34m=\u001b[0m \u001b[0mplt\u001b[0m\u001b[0;34m.\u001b[0m\u001b[0msubplots\u001b[0m\u001b[0;34m(\u001b[0m\u001b[0;34m)\u001b[0m\u001b[0;34m\u001b[0m\u001b[0;34m\u001b[0m\u001b[0m\n\u001b[1;32m      4\u001b[0m \u001b[0mhist\u001b[0m\u001b[0;34m.\u001b[0m\u001b[0mplot2d\u001b[0m\u001b[0;34m(\u001b[0m\u001b[0mhists\u001b[0m\u001b[0;34m[\u001b[0m\u001b[0;34m\"Target_kaone_hist\"\u001b[0m\u001b[0;34m]\u001b[0m\u001b[0;34m.\u001b[0m\u001b[0mintegrate\u001b[0m\u001b[0;34m(\u001b[0m\u001b[0;34m'Ktype'\u001b[0m\u001b[0;34m,\u001b[0m \u001b[0;34m[\u001b[0m\u001b[0;34m'Kshort'\u001b[0m\u001b[0;34m]\u001b[0m\u001b[0;34m)\u001b[0m\u001b[0;34m,\u001b[0m \u001b[0mxaxis\u001b[0m\u001b[0;34m=\u001b[0m\u001b[0;34m'k'\u001b[0m\u001b[0;34m,\u001b[0m \u001b[0max\u001b[0m\u001b[0;34m=\u001b[0m\u001b[0max\u001b[0m\u001b[0;34m,\u001b[0m \u001b[0mpatch_opts\u001b[0m\u001b[0;34m=\u001b[0m\u001b[0mPOPTS\u001b[0m\u001b[0;34m)\u001b[0m\u001b[0;34m;\u001b[0m\u001b[0;34m\u001b[0m\u001b[0;34m\u001b[0m\u001b[0m\n\u001b[1;32m      5\u001b[0m \u001b[0mx\u001b[0m \u001b[0;34m=\u001b[0m \u001b[0mnp\u001b[0m\u001b[0;34m.\u001b[0m\u001b[0marange\u001b[0m\u001b[0;34m(\u001b[0m\u001b[0;36m0\u001b[0m\u001b[0;34m,\u001b[0m \u001b[0;36m3250\u001b[0m\u001b[0;34m,\u001b[0m \u001b[0;36m1\u001b[0m\u001b[0;34m)\u001b[0m\u001b[0;34m\u001b[0m\u001b[0;34m\u001b[0m\u001b[0m\n",
      "\u001b[0;31mKeyError\u001b[0m: 'Target_kaone_hist'"
     ]
    }
   ],
   "source": [
    "print(hists[\"Target_kaone_hist\"])\n",
    "\n",
    "fig, ax = plt.subplots()\n",
    "hist.plot2d(hists[\"Target_kaone_hist\"].integrate('Ktype', ['Kshort']), xaxis='k', ax=ax, patch_opts=POPTS);\n",
    "x = np.arange(0, 3250, 1)\n",
    "ytest = (-1.25*(x)+2660)\n",
    "#ax.plot(x, ytest, '-')\n",
    "\n",
    "\n",
    "fig, ax = plt.subplots()\n",
    "ax.set_xlim(0, 3500)\n",
    "ax.set_ylim(0, 1400)\n",
    "y0 = -x\n",
    "y1 = (-4.35*(x)+2150)\n",
    "y2 = (-3.35*(x)+2150)\n",
    "y3 = (-2.50*(x)+2150)\n",
    "y4 = (-1.75*(x)+3350)\n",
    "y5 = (-0.97*(x)+3350)\n",
    "y6 = (3350)\n",
    "ax.plot(x, y5, '-')\n",
    "\n",
    "ax.fill_between(x, y0, y1, where=(y1 > y0), facecolor='red', alpha=0.5)\n",
    "ax.fill_between(x, y1, y2, where=(y2 > y1), facecolor='orange', alpha=0.5)\n",
    "ax.fill_between(x, y2, y3, where=(y3 > y2), facecolor='yellow', alpha=0.5)\n",
    "ax.fill_between(x, y3, y4, where=(y4 > y3), facecolor='green', alpha=0.5)\n",
    "ax.fill_between(x, y4, y5, where=(y5 > y4), facecolor='blue', alpha=0.5)\n",
    "#ax.fill_between(x, y5, y6, where=(y6 > y5), facecolor='yellow', alpha=0.5)\n",
    "ax.set_ylabel('Electron Energy (MeV)', loc='top')\n",
    "ax.set_xlabel('Kaon Kinetic Energy (MeV)', loc='right')\n",
    "ax.text(50, 200, '20%')\n",
    "ax.text(400, 100, '20%')\n",
    "ax.text(500, 300, '20%')\n",
    "ax.text(1200, 200, '20%')\n",
    "ax.text(2500, 200, '20%')\n",
    "\n",
    "\n"
   ]
  },
  {
   "cell_type": "code",
   "execution_count": null,
   "id": "4183c1c9",
   "metadata": {},
   "outputs": [],
   "source": []
  },
  {
   "cell_type": "code",
   "execution_count": null,
   "id": "c51d140b",
   "metadata": {},
   "outputs": [],
   "source": []
  }
 ],
 "metadata": {
  "kernelspec": {
   "display_name": "Python 3",
   "language": "python",
   "name": "python3"
  },
  "language_info": {
   "codemirror_mode": {
    "name": "ipython",
    "version": 3
   },
   "file_extension": ".py",
   "mimetype": "text/x-python",
   "name": "python",
   "nbconvert_exporter": "python",
   "pygments_lexer": "ipython3",
   "version": "3.9.1"
  }
 },
 "nbformat": 4,
 "nbformat_minor": 5
}
