{
 "cells": [
  {
   "cell_type": "code",
   "execution_count": 1,
   "id": "766e2a4f",
   "metadata": {},
   "outputs": [],
   "source": [
    "from coffea import hist\n",
    "import math\n",
    "\n",
    "%matplotlib inline\n",
    "import matplotlib.pyplot as plt\n",
    "import matplotlib.colors as colors\n",
    "import mplhep as hep\n",
    "import numpy as np\n",
    "import random\n",
    "from itertools import chain\n",
    "\n",
    "plt.style.use(hep.style.CMS)\n",
    "\n",
    "import awkward as ak\n",
    "\n",
    "from matplotlib import colors\n",
    "POPTS={'norm':colors.LogNorm()}"
   ]
  },
  {
   "cell_type": "code",
   "execution_count": 2,
   "id": "6dd51abf",
   "metadata": {},
   "outputs": [],
   "source": [
    "from data import getData, repackage\n",
    "ldmx_dict = getData(chunks=True, fnames=\"/Users/chloeg/Desktop/Work/Fermilab2021/HistData/kaon_ntuple_Aug4.root\")\n",
    "\n",
    "\n"
   ]
  },
  {
   "cell_type": "code",
   "execution_count": 3,
   "id": "33672d97",
   "metadata": {},
   "outputs": [],
   "source": [
    "def extend_array(arr, new_attr, new_attr_name):\n",
    "    members={n:arr[n] for n in arr.fields}\n",
    "    members[new_attr_name] = new_attr\n",
    "    return ak.zip(members)\n",
    "\n",
    "def add_angle(arr,br=['px','py','pz','e'],name=\"theta\"):\n",
    "    from coffea.nanoevents.methods import vector\n",
    "    ak.behavior.update(vector.behavior)\n",
    "\n",
    "    part =  ak.zip({\"x\": arr.px,\n",
    "                    \"y\": arr.py,\n",
    "                    \"z\": arr.pz,\n",
    "                    \"t\": arr.e,\n",
    "                    },\n",
    "                    with_name=\"LorentzVector\")\n",
    "    arr = extend_array(arr, part.theta, name)\n",
    "    return arr\n",
    "\n",
    "def get_vector(arr):\n",
    "    from coffea.nanoevents.methods import vector\n",
    "    ak.behavior.update(vector.behavior)\n",
    "\n",
    "    part =  ak.zip({\"x\": arr.px,\n",
    "                    \"y\": arr.py,\n",
    "                    \"z\": arr.pz,\n",
    "                    \"t\": arr.e,\n",
    "                    },\n",
    "                    with_name=\"LorentzVector\")\n",
    "    return part\n",
    "\n",
    "def flat(x,axis=None): # for now must cast while waiting for coffea to catch up\n",
    "    try:\n",
    "        return ak.to_numpy(ak.flatten(x,axis=axis)) \n",
    "    except:\n",
    "        return x\n",
    "    \n",
    "def pz_smear(pz):\n",
    "    pz_array = []\n",
    "    for part in pz:\n",
    "        for element in part:\n",
    "            if element <= 50:\n",
    "                pz_perc = random.gauss(1,0.0404);\n",
    "            elif element <= 100: \n",
    "                pz_perc = random.gauss(1,0.0410);\n",
    "            elif element <= 250: \n",
    "                pz_perc = random.gauss(1,0.0415);\n",
    "            elif element <= 500: \n",
    "                pz_perc = random.gauss(1,0.0420);\n",
    "            elif element <= 1000: \n",
    "                pz_perc = random.gauss(1,0.0435);\n",
    "            elif element <= 2000:  \n",
    "                pz_perc = random.gauss(1,0.0477);\n",
    "            elif element <= 3000:  \n",
    "                pz_perc = random.gauss(1,0.0523);\n",
    "            elif element <= 4000:  \n",
    "                pz_perc = random.gauss(1,0.0573);            \n",
    "            else:    \n",
    "                pz_perc = random.gauss(1,0.06);\n",
    "            pz_array=np.append(pz_array, [pz_perc])\n",
    "    return (pz_array)\n",
    "\n",
    "def px_smear(p):\n",
    "    px_array = []\n",
    "    for part in p:\n",
    "        for element in part:\n",
    "            if element <= 100:\n",
    "                px_uncer = random.gauss(0,3.00);\n",
    "            elif element <= 400: \n",
    "                px_uncer = random.gauss(0,3.20);\n",
    "            elif element <= 500: \n",
    "                px_uncer = random.gauss(0,3.20);\n",
    "            elif element <= 1000: \n",
    "                px_uncer = random.gauss(0,3.40);\n",
    "            elif element <= 1300: \n",
    "                px_uncer = random.gauss(0,3.50);\n",
    "            elif element <= 2000:  \n",
    "                px_uncer = random.gauss(0,3.85);           \n",
    "            else:    \n",
    "                px_uncer = random.gauss(0,3.85);\n",
    "            px_array=np.append(px_array, [px_uncer])\n",
    "    return (px_array)\n",
    "\n",
    "def py_smear(p):\n",
    "    py_array = []\n",
    "    for part in p:\n",
    "        for element in part:\n",
    "            if element <= 100:\n",
    "                py_uncer = random.gauss(0,3.75);\n",
    "            elif element <= 350: \n",
    "                py_uncer = random.gauss(0,3.80);\n",
    "            elif element <= 500: \n",
    "                py_uncer = random.gauss(0,4.20);\n",
    "            elif element <= 1000: \n",
    "                py_uncer = random.gauss(0,4.80);\n",
    "            elif element <= 1200: \n",
    "                py_uncer = random.gauss(0,4.98);\n",
    "            elif element <= 2000:  \n",
    "                py_uncer = random.gauss(0,3.85);           \n",
    "            else:    \n",
    "                py_uncer = random.gauss(0,5.50);\n",
    "            py_array=np.append(py_array, [py_uncer])\n",
    "    return (py_array)"
   ]
  },
  {
   "cell_type": "code",
   "execution_count": 4,
   "id": "992172ab",
   "metadata": {},
   "outputs": [],
   "source": [
    "hists = {}\n",
    "hists[\"kaon_e\"] = hist.Hist(\"Sim Kaons\",\n",
    "                                hist.Bin(\"e\", r\"$K^+$ Kinetic Energy [MeV]\", 40, 0, 2000), \n",
    "                            ) \n",
    "hists[\"kaon_hist\"] = hist.Hist(\"Sim Kaons\",\n",
    "                                hist.Bin(\"m\", r\"$K^+$ Mass [MeV]\", 40, 450, 550), \n",
    "                            )  \n",
    "hists[\"daus_hist\"] = hist.Hist(\"Sim Kaons\",\n",
    "                                hist.Bin(\"m\", r\"$K^+$ Mass [MeV]\", 40, 450, 550), \n",
    "                            )   \n",
    "hists[\"daus_smear_hist\"] = hist.Hist(\"Sim Kaons\",\n",
    "                                hist.Bin(\"m\", r\"$K^+$ Mass [MeV]\", 40, 450, 550), \n",
    "                            )     "
   ]
  },
  {
   "cell_type": "code",
   "execution_count": 5,
   "id": "2b1bfb1b",
   "metadata": {},
   "outputs": [],
   "source": [
    "def ProcessChunk(chunk, hists):\n",
    "    ldmx_events = repackage(chunk)\n",
    "    \n",
    "    sim_particle = ldmx_events['Sim_Particle']\n",
    "    sim_particle_n = ldmx_events['n']['Sim_Particle']\n",
    "    sim_particle_dau1 = ldmx_events['Sim_Particle_dau1']\n",
    "    sim_particle_dau2 = ldmx_events['Sim_Particle_dau2']\n",
    "    sim_particle_dau3 = ldmx_events['Sim_Particle_dau3']\n",
    "    \n",
    "    klong_mask = sim_particle.pdgID == 130\n",
    "    kshort_mask = sim_particle.pdgID == 310\n",
    "    \n",
    "    piplus_mass = 139.57\n",
    "    pi0_mass    = 134.977\n",
    "\n",
    "    decay_mask  = ((sim_particle_dau2.momdecay)==1)\n",
    "    print(sim_particle.decay)\n",
    "    #decay 1: pi+, pi0\n",
    "    #decay 2: muon+, numu\n",
    "    #decay 8: e-, n0, n0\n",
    "    print(sim_particle_dau1.pdgID)\n",
    "    print(sim_particle_dau2.pdgID)\n",
    "    print(sim_particle_dau3.pdgID)\n",
    "    #learn what decay needs to be\n",
    "    \n",
    "    dau1 = get_vector(sim_particle_dau1[decay_mask])\n",
    "    dau2 = get_vector(sim_particle_dau2[decay_mask])\n",
    "#     dau3 = get_vector(sim_particle_dau3[decay_mask])\n",
    "#     dausum = (dau1 + dau2 + dau3)\n",
    "    dausum = (dau1 + dau2)\n",
    "    \n",
    "    new_px1 = px_smear(dau1.p)+flat(dau1.px)\n",
    "    new_px2 = px_smear(dau2.p)+flat(dau2.px)\n",
    "#     new_px3 = px_smear(dau3.p)+flat(dau3.px)\n",
    "    new_py1 = py_smear(dau1.p)+flat(dau1.py)\n",
    "    new_py2 = py_smear(dau2.p)+flat(dau2.py)\n",
    "#     new_py3 = py_smear(dau3.p)+flat(dau3.py)\n",
    "    new_pz1 = pz_smear(dau1.pz)*flat(dau1.pz)\n",
    "    new_pz2 = pz_smear(dau2.pz)*flat(dau2.pz)\n",
    "#     new_pz3 = pz_smear(dau3.pz)*flat(dau3.pz)\n",
    "    \n",
    "    new_psq1 = new_px1**2+new_py1**2+new_pz1**2\n",
    "    new_psq2 = new_px2**2+new_py2**2+new_pz2**2\n",
    "#     new_psq3 = new_px3**2+new_py3**2+new_pz3**2\n",
    "    new_e1 = (np.sqrt(new_psq1+piplus_mass**2))\n",
    "    new_e2 = (np.sqrt(new_psq2+pi0_mass**2))\n",
    "#     new_e3 = (np.sqrt(new_psq3+piplus_mass**2))\n",
    "    \n",
    "    from coffea.nanoevents.methods import vector\n",
    "    ak.behavior.update(vector.behavior)\n",
    "    dau1_smear =  ak.zip({\"x\": new_px1,\n",
    "                    \"y\": new_py1,\n",
    "                    \"z\": new_pz1,\n",
    "                    \"t\": new_e1,\n",
    "                    },\n",
    "                    with_name=\"LorentzVector\")\n",
    "    dau2_smear =  ak.zip({\"x\": new_px2,\n",
    "                    \"y\": new_py2,\n",
    "                    \"z\": new_pz2,\n",
    "                    \"t\": new_e2,\n",
    "                    },\n",
    "                    with_name=\"LorentzVector\")\n",
    "#     dau3_smear =  ak.zip({\"x\": new_px3,\n",
    "#                     \"y\": new_py3,\n",
    "#                     \"z\": new_pz3,\n",
    "#                     \"t\": new_e3,\n",
    "#                     },\n",
    "#                     with_name=\"LorentzVector\")\n",
    "#     dausum_smear =(dau1_smear + dau2_smear + dau3_smear)\n",
    "    dausum_smear =(dau1_smear + dau2_smear)\n",
    "    \n",
    "    hists[\"kaon_e\"].fill(      \n",
    "                                 e=flat(sim_particle.e),\n",
    "                                )\n",
    "    hists[\"kaon_hist\"].fill(      \n",
    "                                 m=flat(sim_particle[decay_mask].mass),\n",
    "                                )\n",
    "    hists[\"daus_hist\"].fill(      \n",
    "                                 m=flat(dausum.mass),\n",
    "                                )\n",
    "    hists[\"daus_smear_hist\"].fill(      \n",
    "                                 m=flat(dausum_smear.mass),\n",
    "                                )\n",
    "    \n",
    "    return"
   ]
  },
  {
   "cell_type": "code",
   "execution_count": 6,
   "id": "c852df31",
   "metadata": {
    "scrolled": true
   },
   "outputs": [
    {
     "name": "stdout",
     "output_type": "stream",
     "text": [
      "process 1\n",
      "[[1], [2], [2], [8], [1], [1], [2], [2], [8], [8]]\n",
      "[[211], [-13], [-13], [11], [211], [211], [-13], [-13], [321], [321]]\n",
      "[[111], [14], [14], [2.11e+03], [111], [111], [14], [14], [11], [11]]\n",
      "[[], [], [], [2.11e+03], [], [], [], [], [], []]\n"
     ]
    }
   ],
   "source": [
    "nchunk = 0\n",
    "for chunk in ldmx_dict:\n",
    "    #if nchunk >= 1: break\n",
    "    nchunk += 1\n",
    "    print('process',nchunk)\n",
    "    ProcessChunk(chunk, hists)"
   ]
  },
  {
   "cell_type": "code",
   "execution_count": 8,
   "id": "9f839f82",
   "metadata": {},
   "outputs": [
    {
     "name": "stdout",
     "output_type": "stream",
     "text": [
      "<Hist (m) instance at 0x13128e4f0>\n"
     ]
    },
    {
     "data": {
      "image/png": "[encoded data removed]",
      "text/plain": [
       "<Figure size 720x720 with 1 Axes>"
      ]
     },
     "metadata": {
      "needs_background": "light"
     },
     "output_type": "display_data"
    },
    {
     "data": {
      "image/png": "[encoded data removed]",
      "text/plain": [
       "<Figure size 720x720 with 1 Axes>"
      ]
     },
     "metadata": {
      "needs_background": "light"
     },
     "output_type": "display_data"
    }
   ],
   "source": [
    "print(hists[\"kaon_hist\"])\n",
    "fig, ax = plt.subplots()\n",
    "hist.plot1d(hists[\"kaon_hist\"],ax=ax,clear=False);\n",
    "hist.plot1d(hists[\"daus_hist\"],ax=ax,clear=False);\n",
    "hist.plot1d(hists[\"daus_smear_hist\"],ax=ax,clear=False);\n",
    "leg = ax.legend([r'Truth $K^+$', r'Rec from Decay', r'Rec from Smeared Decay'])\n",
    "\n",
    "fig, ax = plt.subplots()\n",
    "hist.plot1d(hists[\"kaon_e\"],ax=ax,clear=False);"
   ]
  },
  {
   "cell_type": "code",
   "execution_count": null,
   "id": "ea93bb64",
   "metadata": {},
   "outputs": [],
   "source": []
  },
  {
   "cell_type": "code",
   "execution_count": null,
   "id": "1e131fab",
   "metadata": {},
   "outputs": [],
   "source": []
  },
  {
   "cell_type": "code",
   "execution_count": null,
   "id": "18a203ae",
   "metadata": {},
   "outputs": [],
   "source": []
  },
  {
   "cell_type": "code",
   "execution_count": null,
   "id": "6c6b65fe",
   "metadata": {
    "scrolled": true
   },
   "outputs": [],
   "source": []
  },
  {
   "cell_type": "code",
   "execution_count": null,
   "id": "895950b8",
   "metadata": {
    "scrolled": true
   },
   "outputs": [],
   "source": []
  },
  {
   "cell_type": "code",
   "execution_count": null,
   "id": "610a0418",
   "metadata": {},
   "outputs": [],
   "source": []
  },
  {
   "cell_type": "code",
   "execution_count": null,
   "id": "526d7b6e",
   "metadata": {},
   "outputs": [],
   "source": []
  },
  {
   "cell_type": "code",
   "execution_count": null,
   "id": "ee531f9d",
   "metadata": {},
   "outputs": [],
   "source": [
    "\n"
   ]
  },
  {
   "cell_type": "code",
   "execution_count": null,
   "id": "0e80ea6e",
   "metadata": {},
   "outputs": [],
   "source": []
  }
 ],
 "metadata": {
  "kernelspec": {
   "display_name": "Python 3",
   "language": "python",
   "name": "python3"
  },
  "language_info": {
   "codemirror_mode": {
    "name": "ipython",
    "version": 3
   },
   "file_extension": ".py",
   "mimetype": "text/x-python",
   "name": "python",
   "nbconvert_exporter": "python",
   "pygments_lexer": "ipython3",
   "version": "3.9.1"
  }
 },
 "nbformat": 4,
 "nbformat_minor": 5
}
