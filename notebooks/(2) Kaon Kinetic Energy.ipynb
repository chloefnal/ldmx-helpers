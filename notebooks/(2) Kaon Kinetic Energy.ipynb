{
 "cells": [
  {
   "cell_type": "code",
   "execution_count": 1,
   "id": "c1733af1",
   "metadata": {},
   "outputs": [],
   "source": [
    "from coffea import hist\n",
    "import math\n",
    "\n",
    "%matplotlib inline\n",
    "import matplotlib.pyplot as plt\n",
    "import matplotlib.colors as colors\n",
    "import mplhep as hep\n",
    "plt.style.use(hep.style.CMS)\n",
    "\n",
    "import awkward as ak\n",
    "\n",
    "from matplotlib import colors\n",
    "POPTS={'norm':colors.LogNorm()}"
   ]
  },
  {
   "cell_type": "code",
   "execution_count": 2,
   "id": "4451474a",
   "metadata": {},
   "outputs": [],
   "source": [
    "from data import getData, repackage\n",
    "ldmx_dict = getData(chunks=True, fnames=\"/Users/chloeg/Desktop/kaons_pn_example.root\")"
   ]
  },
  {
   "cell_type": "code",
   "execution_count": 3,
   "id": "175e443b",
   "metadata": {
    "scrolled": true
   },
   "outputs": [
    {
     "name": "stdout",
     "output_type": "stream",
     "text": [
      "[{Proc_id: 7, Sim_Kaon_pdgID: [310], Sim_Kaon_trkID: [3, ... 591, 591, 591, 591]}]\n"
     ]
    }
   ],
   "source": [
    "ic=0\n",
    "for chunk_dict in ldmx_dict:\n",
    "    if ic==0: print(chunk_dict)\n",
    "    ic+=1"
   ]
  },
  {
   "cell_type": "code",
   "execution_count": 4,
   "id": "73fa8295",
   "metadata": {},
   "outputs": [],
   "source": [
    "ldmx_dict = getData(chunks=True, fnames=\"/Users/chloeg/Desktop/kaons_pn_example.root\")"
   ]
  },
  {
   "cell_type": "code",
   "execution_count": 5,
   "id": "c25040e7",
   "metadata": {},
   "outputs": [],
   "source": [
    "hists = {}\n",
    "hists[\"Target_kaon_hist\"] = hist.Hist(\"Target SP Kaons\",\n",
    "                                hist.Cat(\"Ktype\", \"Type of Kaons\"),      \n",
    "                                hist.Bin(\"k\", r\"Kaon Kinetic Energy [MeV]\", 40, 0, 4000)\n",
    "                            )\n"
   ]
  },
  {
   "cell_type": "code",
   "execution_count": null,
   "id": "b6a192f3",
   "metadata": {},
   "outputs": [],
   "source": []
  },
  {
   "cell_type": "code",
   "execution_count": 6,
   "id": "c1391b2f",
   "metadata": {},
   "outputs": [],
   "source": [
    "def ProcessChunk(chunk, hists):\n",
    "    ldmx_events = repackage(chunk)\n",
    "\n",
    "    target_kaon = ldmx_events['Target_Kaon']\n",
    "    \n",
    "    masks_id = {'Kshort': 310,\n",
    "                'Klong': 130,\n",
    "                'Kpm': 321,\n",
    "               }\n",
    "    masses = {'Kshort': 497.648,\n",
    "              'Klong': 497.648,\n",
    "              'Kpm': 493.677\n",
    "             }\n",
    "    \n",
    "    def flat(x,axis=None):\n",
    "        try:\n",
    "            return ak.to_numpy(ak.flatten(x,axis=axis)) \n",
    "        except:\n",
    "            return x\n",
    "    \n",
    "    for part,pmask in masks_id.items():\n",
    "        #part_mask = (abs(target_kaon.pdgID) == pmask)\n",
    "        print(flat(target_kaon.e)-masses[part])\n",
    "        hists[\"Target_kaon_hist\"].fill(\n",
    "                                     k=flat(target_kaon.e) - masses[part],\n",
    "                                     Ktype= part\n",
    "                                     )\n",
    "   # print(part_mask)"
   ]
  },
  {
   "cell_type": "code",
   "execution_count": 7,
   "id": "f2215b25",
   "metadata": {
    "scrolled": true
   },
   "outputs": [
    {
     "name": "stdout",
     "output_type": "stream",
     "text": [
      "process 0\n",
      "[412.8122   391.85956    8.855377 ...  69.47815  283.5041   323.87585 ]\n",
      "[412.8122   391.85956    8.855377 ...  69.47815  283.5041   323.87585 ]\n",
      "[416.7832    395.83057    12.8263855 ...  73.44916   287.4751\n",
      " 327.84686  ]\n"
     ]
    }
   ],
   "source": [
    "nchunk = 0\n",
    "for chunk in ldmx_dict:\n",
    "    # I usually test my code in one chunck only\n",
    "    #if nchunk >= 1: break\n",
    "    print('process',nchunk)\n",
    "    nchunk += 1\n",
    "    ProcessChunk(chunk, hists)"
   ]
  },
  {
   "cell_type": "code",
   "execution_count": 9,
   "id": "c596ba13",
   "metadata": {},
   "outputs": [
    {
     "name": "stdout",
     "output_type": "stream",
     "text": [
      "<Hist (Ktype,k) instance at 0x13413bc40>\n"
     ]
    },
    {
     "data": {
      "image/png": "[encoded data removed]",
      "text/plain": [
       "<Figure size 720x720 with 1 Axes>"
      ]
     },
     "metadata": {
      "needs_background": "light"
     },
     "output_type": "display_data"
    }
   ],
   "source": [
    "print(hists[\"Target_kaon_hist\"])\n",
    "fig, ax = plt.subplots()\n",
    "hist.plot1d(hists[\"Target_kaon_hist\"],ax=ax,clear=False);\n",
    "leg = ax.legend([r'$K_l$',r'$K^{\\pm}$',r'$K_s$'])"
   ]
  },
  {
   "cell_type": "code",
   "execution_count": null,
   "id": "a4097610",
   "metadata": {},
   "outputs": [],
   "source": []
  }
 ],
 "metadata": {
  "kernelspec": {
   "display_name": "Python 3",
   "language": "python",
   "name": "python3"
  },
  "language_info": {
   "codemirror_mode": {
    "name": "ipython",
    "version": 3
   },
   "file_extension": ".py",
   "mimetype": "text/x-python",
   "name": "python",
   "nbconvert_exporter": "python",
   "pygments_lexer": "ipython3",
   "version": "3.9.1"
  }
 },
 "nbformat": 4,
 "nbformat_minor": 5
}
